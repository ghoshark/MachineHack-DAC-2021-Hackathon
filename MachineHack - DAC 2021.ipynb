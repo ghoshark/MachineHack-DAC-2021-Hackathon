{
 "cells": [
  {
   "cell_type": "markdown",
   "metadata": {},
   "source": [
    "#### H2O AutoML\n",
    "\n",
    "    https://docs.h2o.ai/h2o/latest-stable/h2o-docs/automl.html"
   ]
  },
  {
   "cell_type": "code",
   "execution_count": 1,
   "metadata": {},
   "outputs": [],
   "source": [
    "import pandas as pd\n",
    "import h2o\n",
    "from h2o.automl import H2OAutoML"
   ]
  },
  {
   "cell_type": "code",
   "execution_count": 2,
   "metadata": {},
   "outputs": [
    {
     "name": "stdout",
     "output_type": "stream",
     "text": [
      "Checking whether there is an H2O instance running at http://localhost:54321 ..... not found.\n",
      "Attempting to start a local H2O server...\n",
      "; Java HotSpot(TM) 64-Bit Server VM (build 25.291-b10, mixed mode)\n",
      "  Starting server from C:\\Users\\SESA475934\\Anaconda3\\Lib\\site-packages\\h2o\\backend\\bin\\h2o.jar\n",
      "  Ice root: C:\\Users\\SESA47~1\\AppData\\Local\\Temp\\tmp697f6gj0\n",
      "  JVM stdout: C:\\Users\\SESA47~1\\AppData\\Local\\Temp\\tmp697f6gj0\\h2o_SESA475934_started_from_python.out\n",
      "  JVM stderr: C:\\Users\\SESA47~1\\AppData\\Local\\Temp\\tmp697f6gj0\\h2o_SESA475934_started_from_python.err\n",
      "  Server is running at http://127.0.0.1:54321\n",
      "Connecting to H2O server at http://127.0.0.1:54321 ... successful.\n"
     ]
    },
    {
     "data": {
      "text/html": [
       "<div style=\"overflow:auto\"><table style=\"width:50%\"><tr><td>H2O_cluster_uptime:</td>\n",
       "<td>05 secs</td></tr>\n",
       "<tr><td>H2O_cluster_timezone:</td>\n",
       "<td>Asia/Kolkata</td></tr>\n",
       "<tr><td>H2O_data_parsing_timezone:</td>\n",
       "<td>UTC</td></tr>\n",
       "<tr><td>H2O_cluster_version:</td>\n",
       "<td>3.34.0.3</td></tr>\n",
       "<tr><td>H2O_cluster_version_age:</td>\n",
       "<td>14 days, 14 hours and 16 minutes </td></tr>\n",
       "<tr><td>H2O_cluster_name:</td>\n",
       "<td>H2O_from_python_SESA475934_0uj1dq</td></tr>\n",
       "<tr><td>H2O_cluster_total_nodes:</td>\n",
       "<td>1</td></tr>\n",
       "<tr><td>H2O_cluster_free_memory:</td>\n",
       "<td>10.66 Gb</td></tr>\n",
       "<tr><td>H2O_cluster_total_cores:</td>\n",
       "<td>8</td></tr>\n",
       "<tr><td>H2O_cluster_allowed_cores:</td>\n",
       "<td>8</td></tr>\n",
       "<tr><td>H2O_cluster_status:</td>\n",
       "<td>locked, healthy</td></tr>\n",
       "<tr><td>H2O_connection_url:</td>\n",
       "<td>http://127.0.0.1:54321</td></tr>\n",
       "<tr><td>H2O_connection_proxy:</td>\n",
       "<td>{\"http\": null, \"https\": null}</td></tr>\n",
       "<tr><td>H2O_internal_security:</td>\n",
       "<td>False</td></tr>\n",
       "<tr><td>H2O_API_Extensions:</td>\n",
       "<td>Amazon S3, Algos, AutoML, Core V3, TargetEncoder, Core V4</td></tr>\n",
       "<tr><td>Python_version:</td>\n",
       "<td>3.8.3 final</td></tr></table></div>"
      ],
      "text/plain": [
       "--------------------------  ---------------------------------------------------------\n",
       "H2O_cluster_uptime:         05 secs\n",
       "H2O_cluster_timezone:       Asia/Kolkata\n",
       "H2O_data_parsing_timezone:  UTC\n",
       "H2O_cluster_version:        3.34.0.3\n",
       "H2O_cluster_version_age:    14 days, 14 hours and 16 minutes\n",
       "H2O_cluster_name:           H2O_from_python_SESA475934_0uj1dq\n",
       "H2O_cluster_total_nodes:    1\n",
       "H2O_cluster_free_memory:    10.66 Gb\n",
       "H2O_cluster_total_cores:    8\n",
       "H2O_cluster_allowed_cores:  8\n",
       "H2O_cluster_status:         locked, healthy\n",
       "H2O_connection_url:         http://127.0.0.1:54321\n",
       "H2O_connection_proxy:       {\"http\": null, \"https\": null}\n",
       "H2O_internal_security:      False\n",
       "H2O_API_Extensions:         Amazon S3, Algos, AutoML, Core V3, TargetEncoder, Core V4\n",
       "Python_version:             3.8.3 final\n",
       "--------------------------  ---------------------------------------------------------"
      ]
     },
     "metadata": {},
     "output_type": "display_data"
    }
   ],
   "source": [
    "h2o.init(\n",
    "    nthreads=-1,     # number of threads when launching a new H2O server\n",
    "    max_mem_size=12  # in gigabytes\n",
    ")"
   ]
  },
  {
   "cell_type": "code",
   "execution_count": 3,
   "metadata": {},
   "outputs": [],
   "source": [
    "#h2o.init()"
   ]
  },
  {
   "cell_type": "code",
   "execution_count": 4,
   "metadata": {},
   "outputs": [
    {
     "name": "stdout",
     "output_type": "stream",
     "text": [
      "Parse progress: |████████████████████████████████████████████████████████████████| (done) 100%\n",
      "Parse progress: |████████████████████████████████████████████████████████████████| (done) 100%\n"
     ]
    }
   ],
   "source": [
    "# Import a train/test set into H2O\n",
    "\n",
    "train = h2o.import_file(\"C:\\\\Data_Science\\\\Competitions\\\\MachineHack-2021\\\\train.csv\")\n",
    "test = h2o.import_file(\"C:\\\\Data_Science\\\\Competitions\\\\MachineHack-2021\\\\test.csv\")"
   ]
  },
  {
   "cell_type": "code",
   "execution_count": 5,
   "metadata": {},
   "outputs": [
    {
     "data": {
      "text/html": [
       "<table>\n",
       "<thead>\n",
       "<tr><th>Item_ID  </th><th style=\"text-align: right;\">  Item_W</th><th>Item_Type    </th><th style=\"text-align: right;\">  Item_MRP</th><th>Outlet_ID  </th><th style=\"text-align: right;\">  Outlet_Year</th><th>Outlet_Size  </th><th>Outlet_Location_Type  </th><th style=\"text-align: right;\">  Sales</th></tr>\n",
       "</thead>\n",
       "<tbody>\n",
       "<tr><td>FDU32    </td><td style=\"text-align: right;\"> 21.0275</td><td>Baking Goods </td><td style=\"text-align: right;\">   197.352</td><td>OUT046     </td><td style=\"text-align: right;\">         2004</td><td>Small        </td><td>Tier 2                </td><td style=\"text-align: right;\">2689.46</td></tr>\n",
       "<tr><td>NCT54    </td><td style=\"text-align: right;\"> 21.1024</td><td>Meat         </td><td style=\"text-align: right;\">   148.25 </td><td>OUT035     </td><td style=\"text-align: right;\">         1987</td><td>Small        </td><td>Tier 1                </td><td style=\"text-align: right;\">3437.35</td></tr>\n",
       "<tr><td>FDW08    </td><td style=\"text-align: right;\"> 20.8823</td><td>Hard Drinks  </td><td style=\"text-align: right;\">   205.465</td><td>OUT035     </td><td style=\"text-align: right;\">         1999</td><td>Small        </td><td>Tier 3                </td><td style=\"text-align: right;\">3129.97</td></tr>\n",
       "<tr><td>FDJ22    </td><td style=\"text-align: right;\"> 21.0504</td><td>Starchy Foods</td><td style=\"text-align: right;\">   253.418</td><td>OUT046     </td><td style=\"text-align: right;\">         1996</td><td>Small        </td><td>Tier 1                </td><td style=\"text-align: right;\">1306.51</td></tr>\n",
       "<tr><td>FDF47    </td><td style=\"text-align: right;\"> 21.2479</td><td>Baking Goods </td><td style=\"text-align: right;\">   240.871</td><td>OUT035     </td><td style=\"text-align: right;\">         1988</td><td>Small        </td><td>Tier 3                </td><td style=\"text-align: right;\">1739.77</td></tr>\n",
       "</tbody>\n",
       "</table>"
      ]
     },
     "metadata": {},
     "output_type": "display_data"
    },
    {
     "data": {
      "text/plain": []
     },
     "execution_count": 5,
     "metadata": {},
     "output_type": "execute_result"
    }
   ],
   "source": [
    "train.head(5)"
   ]
  },
  {
   "cell_type": "code",
   "execution_count": 6,
   "metadata": {},
   "outputs": [
    {
     "data": {
      "text/html": [
       "<table>\n",
       "<thead>\n",
       "<tr><th>Item_ID  </th><th style=\"text-align: right;\">  Item_W</th><th>Item_Type         </th><th style=\"text-align: right;\">  Item_MRP</th><th>Outlet_ID  </th><th style=\"text-align: right;\">  Outlet_Year</th><th>Outlet_Size  </th><th>Outlet_Location_Type  </th></tr>\n",
       "</thead>\n",
       "<tbody>\n",
       "<tr><td>DRM23    </td><td style=\"text-align: right;\"> 10.1567</td><td>Snack Foods       </td><td style=\"text-align: right;\">   119.319</td><td>OUT013     </td><td style=\"text-align: right;\">         1999</td><td>High         </td><td>Tier 3                </td></tr>\n",
       "<tr><td>FDG47    </td><td style=\"text-align: right;\"> 10.4344</td><td>Household         </td><td style=\"text-align: right;\">   263.6  </td><td>OUT018     </td><td style=\"text-align: right;\">         1987</td><td>High         </td><td>Tier 3                </td></tr>\n",
       "<tr><td>FDN21    </td><td style=\"text-align: right;\"> 11.9536</td><td>Health and Hygiene</td><td style=\"text-align: right;\">   246.287</td><td>OUT018     </td><td style=\"text-align: right;\">         1997</td><td>High         </td><td>Tier 1                </td></tr>\n",
       "<tr><td>FDZ23    </td><td style=\"text-align: right;\"> 14.9485</td><td>Dairy             </td><td style=\"text-align: right;\">   136.201</td><td>OUT046     </td><td style=\"text-align: right;\">         2004</td><td>Medium       </td><td>Tier 2                </td></tr>\n",
       "<tr><td>FDC16    </td><td style=\"text-align: right;\"> 11.08  </td><td>Canned            </td><td style=\"text-align: right;\">   173.146</td><td>OUT018     </td><td style=\"text-align: right;\">         2009</td><td>Medium       </td><td>Tier 3                </td></tr>\n",
       "</tbody>\n",
       "</table>"
      ]
     },
     "metadata": {},
     "output_type": "display_data"
    },
    {
     "data": {
      "text/plain": []
     },
     "execution_count": 6,
     "metadata": {},
     "output_type": "execute_result"
    }
   ],
   "source": [
    "test.head(5)"
   ]
  },
  {
   "cell_type": "code",
   "execution_count": 7,
   "metadata": {},
   "outputs": [],
   "source": [
    "#Convert H2O frame to pandas dataframe(This is done so that data operations can be easily done)\n",
    "\n",
    "train_as_df = h2o.as_list(train, use_pandas=True)\n",
    "test_as_df = h2o.as_list(test, use_pandas=True)"
   ]
  },
  {
   "cell_type": "code",
   "execution_count": 8,
   "metadata": {},
   "outputs": [],
   "source": [
    "#Drop the ID columns\n",
    "\n",
    "train_as_df=train_as_df.drop(['Item_ID','Outlet_ID'], axis = 1)\n",
    "test_as_df=test_as_df.drop(['Item_ID','Outlet_ID'], axis = 1)"
   ]
  },
  {
   "cell_type": "code",
   "execution_count": 9,
   "metadata": {},
   "outputs": [],
   "source": [
    "#Derive the outlet age column\n",
    "\n",
    "train_as_df['Outlet_Age'] = 2021 - train_as_df['Outlet_Year']\n",
    "train_as_df=train_as_df.drop(['Outlet_Year'], axis = 1)\n",
    "\n",
    "test_as_df['Outlet_Age'] = 2021 - test_as_df['Outlet_Year']\n",
    "test_as_df=test_as_df.drop(['Outlet_Year'], axis = 1)"
   ]
  },
  {
   "cell_type": "code",
   "execution_count": 10,
   "metadata": {},
   "outputs": [
    {
     "data": {
      "text/plain": [
       "Outlet_Age              0.0\n",
       "Sales                   0.0\n",
       "Outlet_Location_Type    0.0\n",
       "Outlet_Size             0.0\n",
       "Item_MRP                0.0\n",
       "Item_Type               0.0\n",
       "Item_W                  0.0\n",
       "dtype: float64"
      ]
     },
     "execution_count": 10,
     "metadata": {},
     "output_type": "execute_result"
    }
   ],
   "source": [
    "#Check for any missing values - train\n",
    "\n",
    "round((train_as_df.isnull().sum() * 100/ len(train_as_df)),2).sort_values(ascending=False)"
   ]
  },
  {
   "cell_type": "code",
   "execution_count": 11,
   "metadata": {},
   "outputs": [
    {
     "data": {
      "text/plain": [
       "Outlet_Age              0.0\n",
       "Outlet_Location_Type    0.0\n",
       "Outlet_Size             0.0\n",
       "Item_MRP                0.0\n",
       "Item_Type               0.0\n",
       "Item_W                  0.0\n",
       "dtype: float64"
      ]
     },
     "execution_count": 11,
     "metadata": {},
     "output_type": "execute_result"
    }
   ],
   "source": [
    "#Check for any missing values - test\n",
    "\n",
    "round((test_as_df.isnull().sum() * 100/ len(test_as_df)),2).sort_values(ascending=False)"
   ]
  },
  {
   "cell_type": "code",
   "execution_count": 12,
   "metadata": {},
   "outputs": [],
   "source": [
    "# One HOT Encoding\n",
    "\n",
    "def encode_and_bind(original_dataframe, feature_to_encode):\n",
    "    dummies = pd.get_dummies(original_dataframe[[feature_to_encode]])\n",
    "    original_dataframe = pd.concat([original_dataframe, dummies], axis=1)\n",
    "    original_dataframe=original_dataframe.drop([feature_to_encode], axis = 1)\n",
    "    return(original_dataframe)"
   ]
  },
  {
   "cell_type": "code",
   "execution_count": 13,
   "metadata": {},
   "outputs": [],
   "source": [
    "train_as_df = encode_and_bind(train_as_df, 'Item_Type')\n",
    "train_as_df = encode_and_bind(train_as_df, 'Outlet_Size')\n",
    "train_as_df = encode_and_bind(train_as_df, 'Outlet_Location_Type')"
   ]
  },
  {
   "cell_type": "code",
   "execution_count": 14,
   "metadata": {},
   "outputs": [
    {
     "data": {
      "text/html": [
       "<div>\n",
       "<style scoped>\n",
       "    .dataframe tbody tr th:only-of-type {\n",
       "        vertical-align: middle;\n",
       "    }\n",
       "\n",
       "    .dataframe tbody tr th {\n",
       "        vertical-align: top;\n",
       "    }\n",
       "\n",
       "    .dataframe thead th {\n",
       "        text-align: right;\n",
       "    }\n",
       "</style>\n",
       "<table border=\"1\" class=\"dataframe\">\n",
       "  <thead>\n",
       "    <tr style=\"text-align: right;\">\n",
       "      <th></th>\n",
       "      <th>Item_W</th>\n",
       "      <th>Item_MRP</th>\n",
       "      <th>Sales</th>\n",
       "      <th>Outlet_Age</th>\n",
       "      <th>Item_Type_Baking Goods</th>\n",
       "      <th>Item_Type_Breads</th>\n",
       "      <th>Item_Type_Breakfast</th>\n",
       "      <th>Item_Type_Canned</th>\n",
       "      <th>Item_Type_Dairy</th>\n",
       "      <th>Item_Type_Frozen Foods</th>\n",
       "      <th>...</th>\n",
       "      <th>Item_Type_Seafood</th>\n",
       "      <th>Item_Type_Snack Foods</th>\n",
       "      <th>Item_Type_Soft Drinks</th>\n",
       "      <th>Item_Type_Starchy Foods</th>\n",
       "      <th>Outlet_Size_High</th>\n",
       "      <th>Outlet_Size_Medium</th>\n",
       "      <th>Outlet_Size_Small</th>\n",
       "      <th>Outlet_Location_Type_Tier 1</th>\n",
       "      <th>Outlet_Location_Type_Tier 2</th>\n",
       "      <th>Outlet_Location_Type_Tier 3</th>\n",
       "    </tr>\n",
       "  </thead>\n",
       "  <tbody>\n",
       "    <tr>\n",
       "      <th>0</th>\n",
       "      <td>21.027499</td>\n",
       "      <td>197.352319</td>\n",
       "      <td>2689.457781</td>\n",
       "      <td>17</td>\n",
       "      <td>1</td>\n",
       "      <td>0</td>\n",
       "      <td>0</td>\n",
       "      <td>0</td>\n",
       "      <td>0</td>\n",
       "      <td>0</td>\n",
       "      <td>...</td>\n",
       "      <td>0</td>\n",
       "      <td>0</td>\n",
       "      <td>0</td>\n",
       "      <td>0</td>\n",
       "      <td>0</td>\n",
       "      <td>0</td>\n",
       "      <td>1</td>\n",
       "      <td>0</td>\n",
       "      <td>1</td>\n",
       "      <td>0</td>\n",
       "    </tr>\n",
       "    <tr>\n",
       "      <th>1</th>\n",
       "      <td>21.102371</td>\n",
       "      <td>148.250214</td>\n",
       "      <td>3437.350375</td>\n",
       "      <td>34</td>\n",
       "      <td>0</td>\n",
       "      <td>0</td>\n",
       "      <td>0</td>\n",
       "      <td>0</td>\n",
       "      <td>0</td>\n",
       "      <td>0</td>\n",
       "      <td>...</td>\n",
       "      <td>0</td>\n",
       "      <td>0</td>\n",
       "      <td>0</td>\n",
       "      <td>0</td>\n",
       "      <td>0</td>\n",
       "      <td>0</td>\n",
       "      <td>1</td>\n",
       "      <td>1</td>\n",
       "      <td>0</td>\n",
       "      <td>0</td>\n",
       "    </tr>\n",
       "    <tr>\n",
       "      <th>2</th>\n",
       "      <td>20.882263</td>\n",
       "      <td>205.465010</td>\n",
       "      <td>3129.967268</td>\n",
       "      <td>22</td>\n",
       "      <td>0</td>\n",
       "      <td>0</td>\n",
       "      <td>0</td>\n",
       "      <td>0</td>\n",
       "      <td>0</td>\n",
       "      <td>0</td>\n",
       "      <td>...</td>\n",
       "      <td>0</td>\n",
       "      <td>0</td>\n",
       "      <td>0</td>\n",
       "      <td>0</td>\n",
       "      <td>0</td>\n",
       "      <td>0</td>\n",
       "      <td>1</td>\n",
       "      <td>0</td>\n",
       "      <td>0</td>\n",
       "      <td>1</td>\n",
       "    </tr>\n",
       "    <tr>\n",
       "      <th>3</th>\n",
       "      <td>21.050435</td>\n",
       "      <td>253.417583</td>\n",
       "      <td>1306.514376</td>\n",
       "      <td>25</td>\n",
       "      <td>0</td>\n",
       "      <td>0</td>\n",
       "      <td>0</td>\n",
       "      <td>0</td>\n",
       "      <td>0</td>\n",
       "      <td>0</td>\n",
       "      <td>...</td>\n",
       "      <td>0</td>\n",
       "      <td>0</td>\n",
       "      <td>0</td>\n",
       "      <td>1</td>\n",
       "      <td>0</td>\n",
       "      <td>0</td>\n",
       "      <td>1</td>\n",
       "      <td>1</td>\n",
       "      <td>0</td>\n",
       "      <td>0</td>\n",
       "    </tr>\n",
       "    <tr>\n",
       "      <th>4</th>\n",
       "      <td>21.247876</td>\n",
       "      <td>240.871039</td>\n",
       "      <td>1739.769829</td>\n",
       "      <td>33</td>\n",
       "      <td>1</td>\n",
       "      <td>0</td>\n",
       "      <td>0</td>\n",
       "      <td>0</td>\n",
       "      <td>0</td>\n",
       "      <td>0</td>\n",
       "      <td>...</td>\n",
       "      <td>0</td>\n",
       "      <td>0</td>\n",
       "      <td>0</td>\n",
       "      <td>0</td>\n",
       "      <td>0</td>\n",
       "      <td>0</td>\n",
       "      <td>1</td>\n",
       "      <td>0</td>\n",
       "      <td>0</td>\n",
       "      <td>1</td>\n",
       "    </tr>\n",
       "  </tbody>\n",
       "</table>\n",
       "<p>5 rows × 26 columns</p>\n",
       "</div>"
      ],
      "text/plain": [
       "      Item_W    Item_MRP        Sales  Outlet_Age  Item_Type_Baking Goods  \\\n",
       "0  21.027499  197.352319  2689.457781          17                       1   \n",
       "1  21.102371  148.250214  3437.350375          34                       0   \n",
       "2  20.882263  205.465010  3129.967268          22                       0   \n",
       "3  21.050435  253.417583  1306.514376          25                       0   \n",
       "4  21.247876  240.871039  1739.769829          33                       1   \n",
       "\n",
       "   Item_Type_Breads  Item_Type_Breakfast  Item_Type_Canned  Item_Type_Dairy  \\\n",
       "0                 0                    0                 0                0   \n",
       "1                 0                    0                 0                0   \n",
       "2                 0                    0                 0                0   \n",
       "3                 0                    0                 0                0   \n",
       "4                 0                    0                 0                0   \n",
       "\n",
       "   Item_Type_Frozen Foods  ...  Item_Type_Seafood  Item_Type_Snack Foods  \\\n",
       "0                       0  ...                  0                      0   \n",
       "1                       0  ...                  0                      0   \n",
       "2                       0  ...                  0                      0   \n",
       "3                       0  ...                  0                      0   \n",
       "4                       0  ...                  0                      0   \n",
       "\n",
       "   Item_Type_Soft Drinks  Item_Type_Starchy Foods  Outlet_Size_High  \\\n",
       "0                      0                        0                 0   \n",
       "1                      0                        0                 0   \n",
       "2                      0                        0                 0   \n",
       "3                      0                        1                 0   \n",
       "4                      0                        0                 0   \n",
       "\n",
       "   Outlet_Size_Medium  Outlet_Size_Small  Outlet_Location_Type_Tier 1  \\\n",
       "0                   0                  1                            0   \n",
       "1                   0                  1                            1   \n",
       "2                   0                  1                            0   \n",
       "3                   0                  1                            1   \n",
       "4                   0                  1                            0   \n",
       "\n",
       "   Outlet_Location_Type_Tier 2  Outlet_Location_Type_Tier 3  \n",
       "0                            1                            0  \n",
       "1                            0                            0  \n",
       "2                            0                            1  \n",
       "3                            0                            0  \n",
       "4                            0                            1  \n",
       "\n",
       "[5 rows x 26 columns]"
      ]
     },
     "execution_count": 14,
     "metadata": {},
     "output_type": "execute_result"
    }
   ],
   "source": [
    "train_as_df.head(5)"
   ]
  },
  {
   "cell_type": "code",
   "execution_count": 15,
   "metadata": {},
   "outputs": [],
   "source": [
    "test_as_df = encode_and_bind(test_as_df, 'Item_Type')\n",
    "test_as_df = encode_and_bind(test_as_df, 'Outlet_Size')\n",
    "test_as_df = encode_and_bind(test_as_df, 'Outlet_Location_Type')"
   ]
  },
  {
   "cell_type": "code",
   "execution_count": 16,
   "metadata": {},
   "outputs": [
    {
     "data": {
      "text/html": [
       "<div>\n",
       "<style scoped>\n",
       "    .dataframe tbody tr th:only-of-type {\n",
       "        vertical-align: middle;\n",
       "    }\n",
       "\n",
       "    .dataframe tbody tr th {\n",
       "        vertical-align: top;\n",
       "    }\n",
       "\n",
       "    .dataframe thead th {\n",
       "        text-align: right;\n",
       "    }\n",
       "</style>\n",
       "<table border=\"1\" class=\"dataframe\">\n",
       "  <thead>\n",
       "    <tr style=\"text-align: right;\">\n",
       "      <th></th>\n",
       "      <th>Item_W</th>\n",
       "      <th>Item_MRP</th>\n",
       "      <th>Outlet_Age</th>\n",
       "      <th>Item_Type_Baking Goods</th>\n",
       "      <th>Item_Type_Breads</th>\n",
       "      <th>Item_Type_Breakfast</th>\n",
       "      <th>Item_Type_Canned</th>\n",
       "      <th>Item_Type_Dairy</th>\n",
       "      <th>Item_Type_Frozen Foods</th>\n",
       "      <th>Item_Type_Fruits and Vegetables</th>\n",
       "      <th>...</th>\n",
       "      <th>Item_Type_Seafood</th>\n",
       "      <th>Item_Type_Snack Foods</th>\n",
       "      <th>Item_Type_Soft Drinks</th>\n",
       "      <th>Item_Type_Starchy Foods</th>\n",
       "      <th>Outlet_Size_High</th>\n",
       "      <th>Outlet_Size_Medium</th>\n",
       "      <th>Outlet_Size_Small</th>\n",
       "      <th>Outlet_Location_Type_Tier 1</th>\n",
       "      <th>Outlet_Location_Type_Tier 2</th>\n",
       "      <th>Outlet_Location_Type_Tier 3</th>\n",
       "    </tr>\n",
       "  </thead>\n",
       "  <tbody>\n",
       "    <tr>\n",
       "      <th>0</th>\n",
       "      <td>10.156725</td>\n",
       "      <td>119.319482</td>\n",
       "      <td>22</td>\n",
       "      <td>0</td>\n",
       "      <td>0</td>\n",
       "      <td>0</td>\n",
       "      <td>0</td>\n",
       "      <td>0</td>\n",
       "      <td>0</td>\n",
       "      <td>0</td>\n",
       "      <td>...</td>\n",
       "      <td>0</td>\n",
       "      <td>1</td>\n",
       "      <td>0</td>\n",
       "      <td>0</td>\n",
       "      <td>1</td>\n",
       "      <td>0</td>\n",
       "      <td>0</td>\n",
       "      <td>0</td>\n",
       "      <td>0</td>\n",
       "      <td>1</td>\n",
       "    </tr>\n",
       "    <tr>\n",
       "      <th>1</th>\n",
       "      <td>10.434425</td>\n",
       "      <td>263.600449</td>\n",
       "      <td>34</td>\n",
       "      <td>0</td>\n",
       "      <td>0</td>\n",
       "      <td>0</td>\n",
       "      <td>0</td>\n",
       "      <td>0</td>\n",
       "      <td>0</td>\n",
       "      <td>0</td>\n",
       "      <td>...</td>\n",
       "      <td>0</td>\n",
       "      <td>0</td>\n",
       "      <td>0</td>\n",
       "      <td>0</td>\n",
       "      <td>1</td>\n",
       "      <td>0</td>\n",
       "      <td>0</td>\n",
       "      <td>0</td>\n",
       "      <td>0</td>\n",
       "      <td>1</td>\n",
       "    </tr>\n",
       "    <tr>\n",
       "      <th>2</th>\n",
       "      <td>11.953589</td>\n",
       "      <td>246.286990</td>\n",
       "      <td>24</td>\n",
       "      <td>0</td>\n",
       "      <td>0</td>\n",
       "      <td>0</td>\n",
       "      <td>0</td>\n",
       "      <td>0</td>\n",
       "      <td>0</td>\n",
       "      <td>0</td>\n",
       "      <td>...</td>\n",
       "      <td>0</td>\n",
       "      <td>0</td>\n",
       "      <td>0</td>\n",
       "      <td>0</td>\n",
       "      <td>1</td>\n",
       "      <td>0</td>\n",
       "      <td>0</td>\n",
       "      <td>1</td>\n",
       "      <td>0</td>\n",
       "      <td>0</td>\n",
       "    </tr>\n",
       "    <tr>\n",
       "      <th>3</th>\n",
       "      <td>14.948546</td>\n",
       "      <td>136.200508</td>\n",
       "      <td>17</td>\n",
       "      <td>0</td>\n",
       "      <td>0</td>\n",
       "      <td>0</td>\n",
       "      <td>0</td>\n",
       "      <td>1</td>\n",
       "      <td>0</td>\n",
       "      <td>0</td>\n",
       "      <td>...</td>\n",
       "      <td>0</td>\n",
       "      <td>0</td>\n",
       "      <td>0</td>\n",
       "      <td>0</td>\n",
       "      <td>0</td>\n",
       "      <td>1</td>\n",
       "      <td>0</td>\n",
       "      <td>0</td>\n",
       "      <td>1</td>\n",
       "      <td>0</td>\n",
       "    </tr>\n",
       "    <tr>\n",
       "      <th>4</th>\n",
       "      <td>11.080042</td>\n",
       "      <td>173.145664</td>\n",
       "      <td>12</td>\n",
       "      <td>0</td>\n",
       "      <td>0</td>\n",
       "      <td>0</td>\n",
       "      <td>1</td>\n",
       "      <td>0</td>\n",
       "      <td>0</td>\n",
       "      <td>0</td>\n",
       "      <td>...</td>\n",
       "      <td>0</td>\n",
       "      <td>0</td>\n",
       "      <td>0</td>\n",
       "      <td>0</td>\n",
       "      <td>0</td>\n",
       "      <td>1</td>\n",
       "      <td>0</td>\n",
       "      <td>0</td>\n",
       "      <td>0</td>\n",
       "      <td>1</td>\n",
       "    </tr>\n",
       "  </tbody>\n",
       "</table>\n",
       "<p>5 rows × 25 columns</p>\n",
       "</div>"
      ],
      "text/plain": [
       "      Item_W    Item_MRP  Outlet_Age  Item_Type_Baking Goods  \\\n",
       "0  10.156725  119.319482          22                       0   \n",
       "1  10.434425  263.600449          34                       0   \n",
       "2  11.953589  246.286990          24                       0   \n",
       "3  14.948546  136.200508          17                       0   \n",
       "4  11.080042  173.145664          12                       0   \n",
       "\n",
       "   Item_Type_Breads  Item_Type_Breakfast  Item_Type_Canned  Item_Type_Dairy  \\\n",
       "0                 0                    0                 0                0   \n",
       "1                 0                    0                 0                0   \n",
       "2                 0                    0                 0                0   \n",
       "3                 0                    0                 0                1   \n",
       "4                 0                    0                 1                0   \n",
       "\n",
       "   Item_Type_Frozen Foods  Item_Type_Fruits and Vegetables  ...  \\\n",
       "0                       0                                0  ...   \n",
       "1                       0                                0  ...   \n",
       "2                       0                                0  ...   \n",
       "3                       0                                0  ...   \n",
       "4                       0                                0  ...   \n",
       "\n",
       "   Item_Type_Seafood  Item_Type_Snack Foods  Item_Type_Soft Drinks  \\\n",
       "0                  0                      1                      0   \n",
       "1                  0                      0                      0   \n",
       "2                  0                      0                      0   \n",
       "3                  0                      0                      0   \n",
       "4                  0                      0                      0   \n",
       "\n",
       "   Item_Type_Starchy Foods  Outlet_Size_High  Outlet_Size_Medium  \\\n",
       "0                        0                 1                   0   \n",
       "1                        0                 1                   0   \n",
       "2                        0                 1                   0   \n",
       "3                        0                 0                   1   \n",
       "4                        0                 0                   1   \n",
       "\n",
       "   Outlet_Size_Small  Outlet_Location_Type_Tier 1  \\\n",
       "0                  0                            0   \n",
       "1                  0                            0   \n",
       "2                  0                            1   \n",
       "3                  0                            0   \n",
       "4                  0                            0   \n",
       "\n",
       "   Outlet_Location_Type_Tier 2  Outlet_Location_Type_Tier 3  \n",
       "0                            0                            1  \n",
       "1                            0                            1  \n",
       "2                            0                            0  \n",
       "3                            1                            0  \n",
       "4                            0                            1  \n",
       "\n",
       "[5 rows x 25 columns]"
      ]
     },
     "execution_count": 16,
     "metadata": {},
     "output_type": "execute_result"
    }
   ],
   "source": [
    "test_as_df.head(5)"
   ]
  },
  {
   "cell_type": "code",
   "execution_count": 17,
   "metadata": {},
   "outputs": [
    {
     "name": "stdout",
     "output_type": "stream",
     "text": [
      "Parse progress: |████████████████████████████████████████████████████████████████| (done) 100%\n",
      "Parse progress: |████████████████████████████████████████████████████████████████| (done) 100%\n"
     ]
    }
   ],
   "source": [
    "#Convert pandas dataframe back to H2O frame\n",
    "train = h2o.H2OFrame(train_as_df)\n",
    "test = h2o.H2OFrame(test_as_df)"
   ]
  },
  {
   "cell_type": "code",
   "execution_count": 18,
   "metadata": {},
   "outputs": [],
   "source": [
    "# Identify predictors and response\n",
    "x = train.columns\n",
    "y = \"Sales\"\n",
    "x.remove(y)"
   ]
  },
  {
   "cell_type": "code",
   "execution_count": 19,
   "metadata": {},
   "outputs": [
    {
     "name": "stdout",
     "output_type": "stream",
     "text": [
      "AutoML progress: |\n",
      "02:02:13.375: AutoML: XGBoost is not available; skipping it.\n",
      "02:02:13.407: Step 'best_of_family_xgboost' not defined in provider 'StackedEnsemble': skipping it.\n",
      "02:02:13.407: Step 'all_xgboost' not defined in provider 'StackedEnsemble': skipping it.\n",
      "\n",
      "███████████████████████████████████████████████████████████████| (done) 100%\n",
      "Model Details\n",
      "=============\n",
      "H2OStackedEnsembleEstimator :  Stacked Ensemble\n",
      "Model Key:  StackedEnsemble_AllModels_5_AutoML_1_20211022_20213\n",
      "\n",
      "No model summary for this model\n",
      "\n",
      "ModelMetricsRegressionGLM: stackedensemble\n",
      "** Reported on train data. **\n",
      "\n",
      "MSE: 1585213.2126249617\n",
      "RMSE: 1259.0525059047227\n",
      "MAE: 987.3010034080071\n",
      "RMSLE: NaN\n",
      "R^2: 0.04614756288612787\n",
      "Mean Residual Deviance: 1585213.2126249617\n",
      "Null degrees of freedom: 9935\n",
      "Residual degrees of freedom: 9929\n",
      "Null deviance: 16512707735.723179\n",
      "Residual deviance: 15750678480.64162\n",
      "AIC: 170061.76259795637\n",
      "\n",
      "ModelMetricsRegressionGLM: stackedensemble\n",
      "** Reported on cross-validation data. **\n",
      "\n",
      "MSE: 1633343.6640955107\n",
      "RMSE: 1278.0233425471972\n",
      "MAE: 1002.9641167263355\n",
      "RMSLE: NaN\n",
      "R^2: 0.02057684899468981\n",
      "Mean Residual Deviance: 1633343.6640955107\n",
      "Null degrees of freedom: 87863\n",
      "Residual degrees of freedom: 87858\n",
      "Null deviance: 146529791289.55746\n",
      "Residual deviance: 143512107702.08795\n",
      "AIC: 1506355.897893007\n"
     ]
    },
    {
     "data": {
      "text/plain": []
     },
     "execution_count": 19,
     "metadata": {},
     "output_type": "execute_result"
    }
   ],
   "source": [
    "# Run AutoML for 10 base models (limited to 1 hour max runtime by default)\n",
    "\n",
    "aml = H2OAutoML(max_models=10, seed=1)\n",
    "aml.train(x=x, y=y, training_frame=train)"
   ]
  },
  {
   "cell_type": "code",
   "execution_count": 20,
   "metadata": {},
   "outputs": [
    {
     "data": {
      "text/html": [
       "<table>\n",
       "<thead>\n",
       "<tr><th>model_id                                              </th><th style=\"text-align: right;\">  mean_residual_deviance</th><th style=\"text-align: right;\">   rmse</th><th style=\"text-align: right;\">        mse</th><th style=\"text-align: right;\">    mae</th><th style=\"text-align: right;\">  rmsle</th></tr>\n",
       "</thead>\n",
       "<tbody>\n",
       "<tr><td>StackedEnsemble_AllModels_5_AutoML_1_20211022_20213   </td><td style=\"text-align: right;\">             1.63334e+06</td><td style=\"text-align: right;\">1278.02</td><td style=\"text-align: right;\">1.63334e+06</td><td style=\"text-align: right;\">1002.96</td><td style=\"text-align: right;\">    nan</td></tr>\n",
       "<tr><td>StackedEnsemble_AllModels_2_AutoML_1_20211022_20213   </td><td style=\"text-align: right;\">             1.63337e+06</td><td style=\"text-align: right;\">1278.03</td><td style=\"text-align: right;\">1.63337e+06</td><td style=\"text-align: right;\">1002.86</td><td style=\"text-align: right;\">    nan</td></tr>\n",
       "<tr><td>StackedEnsemble_AllModels_3_AutoML_1_20211022_20213   </td><td style=\"text-align: right;\">             1.63346e+06</td><td style=\"text-align: right;\">1278.07</td><td style=\"text-align: right;\">1.63346e+06</td><td style=\"text-align: right;\">1002.87</td><td style=\"text-align: right;\">    nan</td></tr>\n",
       "<tr><td>StackedEnsemble_AllModels_1_AutoML_1_20211022_20213   </td><td style=\"text-align: right;\">             1.63393e+06</td><td style=\"text-align: right;\">1278.25</td><td style=\"text-align: right;\">1.63393e+06</td><td style=\"text-align: right;\">1003.14</td><td style=\"text-align: right;\">    nan</td></tr>\n",
       "<tr><td>StackedEnsemble_BestOfFamily_3_AutoML_1_20211022_20213</td><td style=\"text-align: right;\">             1.63463e+06</td><td style=\"text-align: right;\">1278.53</td><td style=\"text-align: right;\">1.63463e+06</td><td style=\"text-align: right;\">1003.23</td><td style=\"text-align: right;\">    nan</td></tr>\n",
       "<tr><td>GBM_5_AutoML_1_20211022_20213                         </td><td style=\"text-align: right;\">             1.63466e+06</td><td style=\"text-align: right;\">1278.54</td><td style=\"text-align: right;\">1.63466e+06</td><td style=\"text-align: right;\">1003.36</td><td style=\"text-align: right;\">    nan</td></tr>\n",
       "<tr><td>GBM_2_AutoML_1_20211022_20213                         </td><td style=\"text-align: right;\">             1.63492e+06</td><td style=\"text-align: right;\">1278.64</td><td style=\"text-align: right;\">1.63492e+06</td><td style=\"text-align: right;\">1003.37</td><td style=\"text-align: right;\">    nan</td></tr>\n",
       "<tr><td>StackedEnsemble_BestOfFamily_5_AutoML_1_20211022_20213</td><td style=\"text-align: right;\">             1.63501e+06</td><td style=\"text-align: right;\">1278.68</td><td style=\"text-align: right;\">1.63501e+06</td><td style=\"text-align: right;\">1003.32</td><td style=\"text-align: right;\">    nan</td></tr>\n",
       "<tr><td>StackedEnsemble_BestOfFamily_2_AutoML_1_20211022_20213</td><td style=\"text-align: right;\">             1.6351e+06 </td><td style=\"text-align: right;\">1278.71</td><td style=\"text-align: right;\">1.6351e+06 </td><td style=\"text-align: right;\">1003.47</td><td style=\"text-align: right;\">    nan</td></tr>\n",
       "<tr><td>StackedEnsemble_AllModels_4_AutoML_1_20211022_20213   </td><td style=\"text-align: right;\">             1.63553e+06</td><td style=\"text-align: right;\">1278.88</td><td style=\"text-align: right;\">1.63553e+06</td><td style=\"text-align: right;\">1003.79</td><td style=\"text-align: right;\">    nan</td></tr>\n",
       "<tr><td>GBM_3_AutoML_1_20211022_20213                         </td><td style=\"text-align: right;\">             1.63627e+06</td><td style=\"text-align: right;\">1279.17</td><td style=\"text-align: right;\">1.63627e+06</td><td style=\"text-align: right;\">1004.1 </td><td style=\"text-align: right;\">    nan</td></tr>\n",
       "<tr><td>StackedEnsemble_BestOfFamily_1_AutoML_1_20211022_20213</td><td style=\"text-align: right;\">             1.63679e+06</td><td style=\"text-align: right;\">1279.37</td><td style=\"text-align: right;\">1.63679e+06</td><td style=\"text-align: right;\">1003.91</td><td style=\"text-align: right;\">    nan</td></tr>\n",
       "<tr><td>GBM_1_AutoML_1_20211022_20213                         </td><td style=\"text-align: right;\">             1.63689e+06</td><td style=\"text-align: right;\">1279.41</td><td style=\"text-align: right;\">1.63689e+06</td><td style=\"text-align: right;\">1003.95</td><td style=\"text-align: right;\">    nan</td></tr>\n",
       "<tr><td>StackedEnsemble_BestOfFamily_4_AutoML_1_20211022_20213</td><td style=\"text-align: right;\">             1.6369e+06 </td><td style=\"text-align: right;\">1279.41</td><td style=\"text-align: right;\">1.6369e+06 </td><td style=\"text-align: right;\">1004.21</td><td style=\"text-align: right;\">    nan</td></tr>\n",
       "<tr><td>GBM_4_AutoML_1_20211022_20213                         </td><td style=\"text-align: right;\">             1.64004e+06</td><td style=\"text-align: right;\">1280.64</td><td style=\"text-align: right;\">1.64004e+06</td><td style=\"text-align: right;\">1004.93</td><td style=\"text-align: right;\">    nan</td></tr>\n",
       "<tr><td>XRT_1_AutoML_1_20211022_20213                         </td><td style=\"text-align: right;\">             1.64957e+06</td><td style=\"text-align: right;\">1284.36</td><td style=\"text-align: right;\">1.64957e+06</td><td style=\"text-align: right;\">1011.5 </td><td style=\"text-align: right;\">    nan</td></tr>\n",
       "<tr><td>DeepLearning_1_AutoML_1_20211022_20213                </td><td style=\"text-align: right;\">             1.65077e+06</td><td style=\"text-align: right;\">1284.82</td><td style=\"text-align: right;\">1.65077e+06</td><td style=\"text-align: right;\">1002.2 </td><td style=\"text-align: right;\">    nan</td></tr>\n",
       "<tr><td>GBM_grid_1_AutoML_1_20211022_20213_model_1            </td><td style=\"text-align: right;\">             1.652e+06  </td><td style=\"text-align: right;\">1285.3 </td><td style=\"text-align: right;\">1.652e+06  </td><td style=\"text-align: right;\">1008.38</td><td style=\"text-align: right;\">    nan</td></tr>\n",
       "<tr><td>GLM_1_AutoML_1_20211022_20213                         </td><td style=\"text-align: right;\">             1.66768e+06</td><td style=\"text-align: right;\">1291.39</td><td style=\"text-align: right;\">1.66768e+06</td><td style=\"text-align: right;\">1013.04</td><td style=\"text-align: right;\">    nan</td></tr>\n",
       "<tr><td>DRF_1_AutoML_1_20211022_20213                         </td><td style=\"text-align: right;\">             1.71759e+06</td><td style=\"text-align: right;\">1310.57</td><td style=\"text-align: right;\">1.71759e+06</td><td style=\"text-align: right;\">1029.64</td><td style=\"text-align: right;\">    nan</td></tr>\n",
       "</tbody>\n",
       "</table>"
      ]
     },
     "metadata": {},
     "output_type": "display_data"
    },
    {
     "data": {
      "text/plain": []
     },
     "execution_count": 20,
     "metadata": {},
     "output_type": "execute_result"
    }
   ],
   "source": [
    "# View the AutoML Leaderboard\n",
    "\n",
    "lb = aml.leaderboard\n",
    "lb.head(rows=lb.nrows)  # Print all rows instead of default (10 rows)"
   ]
  },
  {
   "cell_type": "code",
   "execution_count": 21,
   "metadata": {},
   "outputs": [
    {
     "name": "stdout",
     "output_type": "stream",
     "text": [
      "Model Details\n",
      "=============\n",
      "H2OStackedEnsembleEstimator :  Stacked Ensemble\n",
      "Model Key:  StackedEnsemble_AllModels_5_AutoML_1_20211022_20213\n",
      "\n",
      "No model summary for this model\n",
      "\n",
      "ModelMetricsRegressionGLM: stackedensemble\n",
      "** Reported on train data. **\n",
      "\n",
      "MSE: 1585213.2126249617\n",
      "RMSE: 1259.0525059047227\n",
      "MAE: 987.3010034080071\n",
      "RMSLE: NaN\n",
      "R^2: 0.04614756288612787\n",
      "Mean Residual Deviance: 1585213.2126249617\n",
      "Null degrees of freedom: 9935\n",
      "Residual degrees of freedom: 9929\n",
      "Null deviance: 16512707735.723179\n",
      "Residual deviance: 15750678480.64162\n",
      "AIC: 170061.76259795637\n",
      "\n",
      "ModelMetricsRegressionGLM: stackedensemble\n",
      "** Reported on cross-validation data. **\n",
      "\n",
      "MSE: 1633343.6640955107\n",
      "RMSE: 1278.0233425471972\n",
      "MAE: 1002.9641167263355\n",
      "RMSLE: NaN\n",
      "R^2: 0.02057684899468981\n",
      "Mean Residual Deviance: 1633343.6640955107\n",
      "Null degrees of freedom: 87863\n",
      "Residual degrees of freedom: 87858\n",
      "Null deviance: 146529791289.55746\n",
      "Residual deviance: 143512107702.08795\n",
      "AIC: 1506355.897893007\n"
     ]
    },
    {
     "data": {
      "text/plain": []
     },
     "execution_count": 21,
     "metadata": {},
     "output_type": "execute_result"
    }
   ],
   "source": [
    "# The leader model is stored here\n",
    "\n",
    "aml.leader"
   ]
  },
  {
   "cell_type": "code",
   "execution_count": 22,
   "metadata": {},
   "outputs": [
    {
     "name": "stdout",
     "output_type": "stream",
     "text": [
      "stackedensemble prediction progress: |███████████████████████████████████████████| (done) 100%\n"
     ]
    }
   ],
   "source": [
    "# To generate predictions on a test set, you can make predictions\n",
    "# directly on the `\"H2OAutoML\"` object or on the leader model\n",
    "# object directly\n",
    "#preds = aml.predict(test)\n",
    "# or\n",
    "preds = aml.leader.predict(test)"
   ]
  },
  {
   "cell_type": "code",
   "execution_count": 23,
   "metadata": {},
   "outputs": [
    {
     "data": {
      "text/html": [
       "<table>\n",
       "<thead>\n",
       "<tr><th style=\"text-align: right;\">  predict</th></tr>\n",
       "</thead>\n",
       "<tbody>\n",
       "<tr><td style=\"text-align: right;\">  1956.57</td></tr>\n",
       "<tr><td style=\"text-align: right;\">  2156.16</td></tr>\n",
       "<tr><td style=\"text-align: right;\">  1850.75</td></tr>\n",
       "<tr><td style=\"text-align: right;\">  1707.88</td></tr>\n",
       "<tr><td style=\"text-align: right;\">  1599.51</td></tr>\n",
       "</tbody>\n",
       "</table>"
      ]
     },
     "metadata": {},
     "output_type": "display_data"
    },
    {
     "data": {
      "text/plain": []
     },
     "execution_count": 23,
     "metadata": {},
     "output_type": "execute_result"
    }
   ],
   "source": [
    "preds.head(5)"
   ]
  },
  {
   "cell_type": "code",
   "execution_count": 24,
   "metadata": {},
   "outputs": [
    {
     "data": {
      "text/html": [
       "<table>\n",
       "<thead>\n",
       "<tr><th style=\"text-align: right;\">  Item_W</th><th style=\"text-align: right;\">  Item_MRP</th><th style=\"text-align: right;\">  Outlet_Age</th><th style=\"text-align: right;\">  Item_Type_Baking Goods</th><th style=\"text-align: right;\">  Item_Type_Breads</th><th style=\"text-align: right;\">  Item_Type_Breakfast</th><th style=\"text-align: right;\">  Item_Type_Canned</th><th style=\"text-align: right;\">  Item_Type_Dairy</th><th style=\"text-align: right;\">  Item_Type_Frozen Foods</th><th style=\"text-align: right;\">  Item_Type_Fruits and Vegetables</th><th style=\"text-align: right;\">  Item_Type_Hard Drinks</th><th style=\"text-align: right;\">  Item_Type_Health and Hygiene</th><th style=\"text-align: right;\">  Item_Type_Household</th><th style=\"text-align: right;\">  Item_Type_Meat</th><th style=\"text-align: right;\">  Item_Type_Others</th><th style=\"text-align: right;\">  Item_Type_Seafood</th><th style=\"text-align: right;\">  Item_Type_Snack Foods</th><th style=\"text-align: right;\">  Item_Type_Soft Drinks</th><th style=\"text-align: right;\">  Item_Type_Starchy Foods</th><th style=\"text-align: right;\">  Outlet_Size_High</th><th style=\"text-align: right;\">  Outlet_Size_Medium</th><th style=\"text-align: right;\">  Outlet_Size_Small</th><th style=\"text-align: right;\">  Outlet_Location_Type_Tier 1</th><th style=\"text-align: right;\">  Outlet_Location_Type_Tier 2</th><th style=\"text-align: right;\">  Outlet_Location_Type_Tier 3</th><th style=\"text-align: right;\">  predict</th></tr>\n",
       "</thead>\n",
       "<tbody>\n",
       "<tr><td style=\"text-align: right;\"> 10.1567</td><td style=\"text-align: right;\">   119.319</td><td style=\"text-align: right;\">          22</td><td style=\"text-align: right;\">                       0</td><td style=\"text-align: right;\">                 0</td><td style=\"text-align: right;\">                    0</td><td style=\"text-align: right;\">                 0</td><td style=\"text-align: right;\">                0</td><td style=\"text-align: right;\">                       0</td><td style=\"text-align: right;\">                                0</td><td style=\"text-align: right;\">                      0</td><td style=\"text-align: right;\">                             0</td><td style=\"text-align: right;\">                    0</td><td style=\"text-align: right;\">               0</td><td style=\"text-align: right;\">                 0</td><td style=\"text-align: right;\">                  0</td><td style=\"text-align: right;\">                      1</td><td style=\"text-align: right;\">                      0</td><td style=\"text-align: right;\">                        0</td><td style=\"text-align: right;\">                 1</td><td style=\"text-align: right;\">                   0</td><td style=\"text-align: right;\">                  0</td><td style=\"text-align: right;\">                            0</td><td style=\"text-align: right;\">                            0</td><td style=\"text-align: right;\">                            1</td><td style=\"text-align: right;\">  1956.57</td></tr>\n",
       "<tr><td style=\"text-align: right;\"> 10.4344</td><td style=\"text-align: right;\">   263.6  </td><td style=\"text-align: right;\">          34</td><td style=\"text-align: right;\">                       0</td><td style=\"text-align: right;\">                 0</td><td style=\"text-align: right;\">                    0</td><td style=\"text-align: right;\">                 0</td><td style=\"text-align: right;\">                0</td><td style=\"text-align: right;\">                       0</td><td style=\"text-align: right;\">                                0</td><td style=\"text-align: right;\">                      0</td><td style=\"text-align: right;\">                             0</td><td style=\"text-align: right;\">                    1</td><td style=\"text-align: right;\">               0</td><td style=\"text-align: right;\">                 0</td><td style=\"text-align: right;\">                  0</td><td style=\"text-align: right;\">                      0</td><td style=\"text-align: right;\">                      0</td><td style=\"text-align: right;\">                        0</td><td style=\"text-align: right;\">                 1</td><td style=\"text-align: right;\">                   0</td><td style=\"text-align: right;\">                  0</td><td style=\"text-align: right;\">                            0</td><td style=\"text-align: right;\">                            0</td><td style=\"text-align: right;\">                            1</td><td style=\"text-align: right;\">  2156.16</td></tr>\n",
       "<tr><td style=\"text-align: right;\"> 11.9536</td><td style=\"text-align: right;\">   246.287</td><td style=\"text-align: right;\">          24</td><td style=\"text-align: right;\">                       0</td><td style=\"text-align: right;\">                 0</td><td style=\"text-align: right;\">                    0</td><td style=\"text-align: right;\">                 0</td><td style=\"text-align: right;\">                0</td><td style=\"text-align: right;\">                       0</td><td style=\"text-align: right;\">                                0</td><td style=\"text-align: right;\">                      0</td><td style=\"text-align: right;\">                             1</td><td style=\"text-align: right;\">                    0</td><td style=\"text-align: right;\">               0</td><td style=\"text-align: right;\">                 0</td><td style=\"text-align: right;\">                  0</td><td style=\"text-align: right;\">                      0</td><td style=\"text-align: right;\">                      0</td><td style=\"text-align: right;\">                        0</td><td style=\"text-align: right;\">                 1</td><td style=\"text-align: right;\">                   0</td><td style=\"text-align: right;\">                  0</td><td style=\"text-align: right;\">                            1</td><td style=\"text-align: right;\">                            0</td><td style=\"text-align: right;\">                            0</td><td style=\"text-align: right;\">  1850.75</td></tr>\n",
       "<tr><td style=\"text-align: right;\"> 14.9485</td><td style=\"text-align: right;\">   136.201</td><td style=\"text-align: right;\">          17</td><td style=\"text-align: right;\">                       0</td><td style=\"text-align: right;\">                 0</td><td style=\"text-align: right;\">                    0</td><td style=\"text-align: right;\">                 0</td><td style=\"text-align: right;\">                1</td><td style=\"text-align: right;\">                       0</td><td style=\"text-align: right;\">                                0</td><td style=\"text-align: right;\">                      0</td><td style=\"text-align: right;\">                             0</td><td style=\"text-align: right;\">                    0</td><td style=\"text-align: right;\">               0</td><td style=\"text-align: right;\">                 0</td><td style=\"text-align: right;\">                  0</td><td style=\"text-align: right;\">                      0</td><td style=\"text-align: right;\">                      0</td><td style=\"text-align: right;\">                        0</td><td style=\"text-align: right;\">                 0</td><td style=\"text-align: right;\">                   1</td><td style=\"text-align: right;\">                  0</td><td style=\"text-align: right;\">                            0</td><td style=\"text-align: right;\">                            1</td><td style=\"text-align: right;\">                            0</td><td style=\"text-align: right;\">  1707.88</td></tr>\n",
       "<tr><td style=\"text-align: right;\"> 11.08  </td><td style=\"text-align: right;\">   173.146</td><td style=\"text-align: right;\">          12</td><td style=\"text-align: right;\">                       0</td><td style=\"text-align: right;\">                 0</td><td style=\"text-align: right;\">                    0</td><td style=\"text-align: right;\">                 1</td><td style=\"text-align: right;\">                0</td><td style=\"text-align: right;\">                       0</td><td style=\"text-align: right;\">                                0</td><td style=\"text-align: right;\">                      0</td><td style=\"text-align: right;\">                             0</td><td style=\"text-align: right;\">                    0</td><td style=\"text-align: right;\">               0</td><td style=\"text-align: right;\">                 0</td><td style=\"text-align: right;\">                  0</td><td style=\"text-align: right;\">                      0</td><td style=\"text-align: right;\">                      0</td><td style=\"text-align: right;\">                        0</td><td style=\"text-align: right;\">                 0</td><td style=\"text-align: right;\">                   1</td><td style=\"text-align: right;\">                  0</td><td style=\"text-align: right;\">                            0</td><td style=\"text-align: right;\">                            0</td><td style=\"text-align: right;\">                            1</td><td style=\"text-align: right;\">  1599.51</td></tr>\n",
       "</tbody>\n",
       "</table>"
      ]
     },
     "metadata": {},
     "output_type": "display_data"
    },
    {
     "data": {
      "text/plain": []
     },
     "execution_count": 24,
     "metadata": {},
     "output_type": "execute_result"
    }
   ],
   "source": [
    "df = test.cbind(preds)\n",
    "df.head(5)"
   ]
  },
  {
   "cell_type": "code",
   "execution_count": 26,
   "metadata": {},
   "outputs": [
    {
     "data": {
      "text/html": [
       "<table>\n",
       "<thead>\n",
       "<tr><th style=\"text-align: right;\">  predict</th></tr>\n",
       "</thead>\n",
       "<tbody>\n",
       "<tr><td style=\"text-align: right;\">  1956.57</td></tr>\n",
       "<tr><td style=\"text-align: right;\">  2156.16</td></tr>\n",
       "<tr><td style=\"text-align: right;\">  1850.75</td></tr>\n",
       "<tr><td style=\"text-align: right;\">  1707.88</td></tr>\n",
       "<tr><td style=\"text-align: right;\">  1599.51</td></tr>\n",
       "</tbody>\n",
       "</table>"
      ]
     },
     "metadata": {},
     "output_type": "display_data"
    },
    {
     "data": {
      "text/plain": []
     },
     "execution_count": 26,
     "metadata": {},
     "output_type": "execute_result"
    }
   ],
   "source": [
    "# Slice cols by vector of names\n",
    "res = df[:, [\"predict\"]]\n",
    "res.head(5)"
   ]
  },
  {
   "cell_type": "code",
   "execution_count": 27,
   "metadata": {},
   "outputs": [
    {
     "data": {
      "text/html": [
       "<table>\n",
       "<thead>\n",
       "<tr><th style=\"text-align: right;\">  Sales</th></tr>\n",
       "</thead>\n",
       "<tbody>\n",
       "<tr><td style=\"text-align: right;\">1956.57</td></tr>\n",
       "<tr><td style=\"text-align: right;\">2156.16</td></tr>\n",
       "<tr><td style=\"text-align: right;\">1850.75</td></tr>\n",
       "<tr><td style=\"text-align: right;\">1707.88</td></tr>\n",
       "<tr><td style=\"text-align: right;\">1599.51</td></tr>\n",
       "<tr><td style=\"text-align: right;\">1982.25</td></tr>\n",
       "<tr><td style=\"text-align: right;\">1960.75</td></tr>\n",
       "<tr><td style=\"text-align: right;\">2096.75</td></tr>\n",
       "<tr><td style=\"text-align: right;\">1668.76</td></tr>\n",
       "<tr><td style=\"text-align: right;\">1959.94</td></tr>\n",
       "</tbody>\n",
       "</table>"
      ]
     },
     "metadata": {},
     "output_type": "display_data"
    },
    {
     "data": {
      "text/plain": []
     },
     "execution_count": 27,
     "metadata": {},
     "output_type": "execute_result"
    }
   ],
   "source": [
    "#Rename column\n",
    "res.set_names(['Sales'])"
   ]
  },
  {
   "cell_type": "markdown",
   "metadata": {},
   "source": [
    "#### Save results"
   ]
  },
  {
   "cell_type": "code",
   "execution_count": 28,
   "metadata": {},
   "outputs": [
    {
     "name": "stdout",
     "output_type": "stream",
     "text": [
      "Export File progress: |██████████████████████████████████████████████████████████| (done) 100%\n"
     ]
    }
   ],
   "source": [
    "# Export the file\n",
    "# There are two ways to save the leader model -- binary format and MOJO format. If you're taking your leader model to production, \n",
    "# then we'd suggest the MOJO format since it's optimized for production use.\n",
    "\n",
    "h2o.export_file(res, path = \"C:\\\\Data_Science\\\\Competitions\\\\MachineHack-2021\\\\submission1.csv\", force = True)"
   ]
  },
  {
   "cell_type": "code",
   "execution_count": 30,
   "metadata": {},
   "outputs": [
    {
     "data": {
      "text/plain": [
       "'C:\\\\Data_Science\\\\Competitions\\\\MachineHack-2021\\\\h20_model_bin\\\\StackedEnsemble_AllModels_5_AutoML_1_20211022_20213'"
      ]
     },
     "execution_count": 30,
     "metadata": {},
     "output_type": "execute_result"
    }
   ],
   "source": [
    "h2o.save_model(aml.leader, path = \"C:\\\\Data_Science\\\\Competitions\\\\MachineHack-2021\\\\h20_model_bin\")"
   ]
  },
  {
   "cell_type": "code",
   "execution_count": 31,
   "metadata": {},
   "outputs": [
    {
     "data": {
      "text/plain": [
       "'C:\\\\Data_Science\\\\Competitions\\\\MachineHack-2021\\\\StackedEnsemble_AllModels_5_AutoML_1_20211022_20213.zip'"
      ]
     },
     "execution_count": 31,
     "metadata": {},
     "output_type": "execute_result"
    }
   ],
   "source": [
    "aml.leader.download_mojo(path = \"C:\\\\Data_Science\\\\Competitions\\\\MachineHack-2021\")"
   ]
  },
  {
   "cell_type": "markdown",
   "metadata": {},
   "source": [
    "#### Ensemble Exploration\n",
    "\n",
    "    To understand how the ensemble works, let's take a peek inside the Stacked Ensemble \"All Models\" model. The \"All Models\" ensemble is an ensemble of all of the individual models in the AutoML run. This is often the top performing model on the leaderboard."
   ]
  },
  {
   "cell_type": "code",
   "execution_count": 32,
   "metadata": {},
   "outputs": [
    {
     "name": "stderr",
     "output_type": "stream",
     "text": [
      "C:\\Users\\SESA475934\\Anaconda3\\lib\\site-packages\\h2o\\estimators\\stackedensemble.py:925: H2ODeprecationWarning: The usage of stacked_ensemble.metalearner()['name'] will be deprecated. Metalearner now returns the metalearner object. If you need to get the 'name' please use stacked_ensemble.metalearner().model_id\n",
      "  warnings.warn(\n"
     ]
    }
   ],
   "source": [
    "# Get model ids for all models in the AutoML Leaderboard\n",
    "model_ids = list(aml.leaderboard['model_id'].as_data_frame().iloc[:,0])\n",
    "# Get the \"All Models\" Stacked Ensemble model\n",
    "se = h2o.get_model([mid for mid in model_ids if \"StackedEnsemble_AllModels\" in mid][0])\n",
    "# Get the Stacked Ensemble metalearner model\n",
    "metalearner = h2o.get_model(se.metalearner()['name'])"
   ]
  },
  {
   "cell_type": "markdown",
   "metadata": {},
   "source": [
    "Examine the variable importance of the metalearner (combiner) algorithm in the ensemble. This shows us how much each base learner is contributing to the ensemble. The AutoML Stacked Ensembles use the default metalearner algorithm (GLM with non-negative weights), so the variable importance of the metalearner is actually the standardized coefficient magnitudes of the GLM."
   ]
  },
  {
   "cell_type": "code",
   "execution_count": 33,
   "metadata": {},
   "outputs": [
    {
     "data": {
      "text/plain": [
       "{'Intercept': 1911.842119805996,\n",
       " 'GBM_5_AutoML_1_20211022_20213': 49.99742652560796,\n",
       " 'GBM_2_AutoML_1_20211022_20213': 43.64274565277796,\n",
       " 'GBM_3_AutoML_1_20211022_20213': 29.08291849931086,\n",
       " 'GBM_1_AutoML_1_20211022_20213': 42.97276790540149,\n",
       " 'GBM_4_AutoML_1_20211022_20213': 10.580289477803802,\n",
       " 'XRT_1_AutoML_1_20211022_20213': 0.0,\n",
       " 'DeepLearning_1_AutoML_1_20211022_20213': 0.0,\n",
       " 'GBM_grid_1_AutoML_1_20211022_20213_model_1': 2.216380216135843,\n",
       " 'GLM_1_AutoML_1_20211022_20213': 0.0,\n",
       " 'DRF_1_AutoML_1_20211022_20213': 0.0}"
      ]
     },
     "execution_count": 33,
     "metadata": {},
     "output_type": "execute_result"
    }
   ],
   "source": [
    "metalearner.coef_norm()"
   ]
  },
  {
   "cell_type": "code",
   "execution_count": 34,
   "metadata": {},
   "outputs": [
    {
     "data": {
      "image/png": "[encoded data removed]",
      "text/plain": [
       "<Figure size 1008x720 with 1 Axes>"
      ]
     },
     "metadata": {
      "needs_background": "light"
     },
     "output_type": "display_data"
    }
   ],
   "source": [
    "#We can also plot the base learner contributions to the ensemble.\n",
    "%matplotlib inline\n",
    "metalearner.std_coef_plot()"
   ]
  },
  {
   "cell_type": "code",
   "execution_count": null,
   "metadata": {},
   "outputs": [],
   "source": []
  },
  {
   "cell_type": "code",
   "execution_count": null,
   "metadata": {},
   "outputs": [],
   "source": []
  },
  {
   "cell_type": "code",
   "execution_count": null,
   "metadata": {},
   "outputs": [],
   "source": []
  },
  {
   "cell_type": "code",
   "execution_count": null,
   "metadata": {},
   "outputs": [],
   "source": []
  },
  {
   "cell_type": "code",
   "execution_count": null,
   "metadata": {},
   "outputs": [],
   "source": []
  },
  {
   "cell_type": "code",
   "execution_count": null,
   "metadata": {},
   "outputs": [],
   "source": []
  },
  {
   "cell_type": "code",
   "execution_count": null,
   "metadata": {},
   "outputs": [],
   "source": []
  },
  {
   "cell_type": "code",
   "execution_count": null,
   "metadata": {},
   "outputs": [],
   "source": []
  },
  {
   "cell_type": "code",
   "execution_count": null,
   "metadata": {},
   "outputs": [],
   "source": []
  },
  {
   "cell_type": "code",
   "execution_count": null,
   "metadata": {},
   "outputs": [],
   "source": []
  },
  {
   "cell_type": "code",
   "execution_count": null,
   "metadata": {},
   "outputs": [],
   "source": []
  },
  {
   "cell_type": "code",
   "execution_count": null,
   "metadata": {},
   "outputs": [],
   "source": []
  },
  {
   "cell_type": "code",
   "execution_count": null,
   "metadata": {},
   "outputs": [],
   "source": []
  },
  {
   "cell_type": "code",
   "execution_count": null,
   "metadata": {},
   "outputs": [],
   "source": []
  }
 ],
 "metadata": {
  "kernelspec": {
   "display_name": "Python 3",
   "language": "python",
   "name": "python3"
  },
  "language_info": {
   "codemirror_mode": {
    "name": "ipython",
    "version": 3
   },
   "file_extension": ".py",
   "mimetype": "text/x-python",
   "name": "python",
   "nbconvert_exporter": "python",
   "pygments_lexer": "ipython3",
   "version": "3.8.3"
  }
 },
 "nbformat": 4,
 "nbformat_minor": 4
}
