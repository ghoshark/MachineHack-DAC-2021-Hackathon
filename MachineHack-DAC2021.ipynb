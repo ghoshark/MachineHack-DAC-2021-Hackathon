{
  "cells": [
    {
      "cell_type": "code",
      "source": [
        "import pandas as pd\r\n",
        "import h2o\r\n",
        "from h2o.automl import H2OAutoML\r\n",
        "import numpy as np\r\n",
        "import scipy.stats as stats\r\n",
        "import matplotlib.pyplot as plt\r\n",
        "\r\n",
        "# Import label encoder\r\n",
        "from sklearn import preprocessing\r\n",
        "\r\n",
        "# Import a train/test set into H2O\r\n",
        "from azureml.core import Workspace, Datastore, Dataset"
      ],
      "outputs": [],
      "execution_count": 1,
      "metadata": {
        "gather": {
          "logged": 1635081457385
        }
      }
    },
    {
      "cell_type": "code",
      "source": [
        "h2o.init(\r\n",
        "    nthreads=-1,     # number of threads when launching a new H2O server\r\n",
        "    max_mem_size=12  # in gigabytes\r\n",
        ")"
      ],
      "outputs": [
        {
          "output_type": "stream",
          "name": "stdout",
          "text": "Checking whether there is an H2O instance running at http://localhost:54321 . connected.\n"
        },
        {
          "output_type": "display_data",
          "data": {
            "text/plain": "--------------------------  ------------------------------------------------------------------\nH2O_cluster_uptime:         7 hours 48 mins\nH2O_cluster_timezone:       Etc/UTC\nH2O_data_parsing_timezone:  UTC\nH2O_cluster_version:        3.34.0.3\nH2O_cluster_version_age:    17 days\nH2O_cluster_name:           H2O_from_python_azureuser_uc9eq5\nH2O_cluster_total_nodes:    1\nH2O_cluster_free_memory:    10.14 Gb\nH2O_cluster_total_cores:    6\nH2O_cluster_allowed_cores:  6\nH2O_cluster_status:         locked, healthy\nH2O_connection_url:         http://localhost:54321\nH2O_connection_proxy:       {\"http\": null, \"https\": null}\nH2O_internal_security:      False\nH2O_API_Extensions:         Amazon S3, XGBoost, Algos, AutoML, Core V3, TargetEncoder, Core V4\nPython_version:             3.8.1 final\n--------------------------  ------------------------------------------------------------------",
            "text/html": "<div style=\"overflow:auto\"><table style=\"width:50%\"><tr><td>H2O_cluster_uptime:</td>\n<td>7 hours 48 mins</td></tr>\n<tr><td>H2O_cluster_timezone:</td>\n<td>Etc/UTC</td></tr>\n<tr><td>H2O_data_parsing_timezone:</td>\n<td>UTC</td></tr>\n<tr><td>H2O_cluster_version:</td>\n<td>3.34.0.3</td></tr>\n<tr><td>H2O_cluster_version_age:</td>\n<td>17 days </td></tr>\n<tr><td>H2O_cluster_name:</td>\n<td>H2O_from_python_azureuser_uc9eq5</td></tr>\n<tr><td>H2O_cluster_total_nodes:</td>\n<td>1</td></tr>\n<tr><td>H2O_cluster_free_memory:</td>\n<td>10.14 Gb</td></tr>\n<tr><td>H2O_cluster_total_cores:</td>\n<td>6</td></tr>\n<tr><td>H2O_cluster_allowed_cores:</td>\n<td>6</td></tr>\n<tr><td>H2O_cluster_status:</td>\n<td>locked, healthy</td></tr>\n<tr><td>H2O_connection_url:</td>\n<td>http://localhost:54321</td></tr>\n<tr><td>H2O_connection_proxy:</td>\n<td>{\"http\": null, \"https\": null}</td></tr>\n<tr><td>H2O_internal_security:</td>\n<td>False</td></tr>\n<tr><td>H2O_API_Extensions:</td>\n<td>Amazon S3, XGBoost, Algos, AutoML, Core V3, TargetEncoder, Core V4</td></tr>\n<tr><td>Python_version:</td>\n<td>3.8.1 final</td></tr></table></div>"
          },
          "metadata": {}
        }
      ],
      "execution_count": 2,
      "metadata": {
        "jupyter": {
          "source_hidden": false,
          "outputs_hidden": false
        },
        "nteract": {
          "transient": {
            "deleting": false
          }
        },
        "gather": {
          "logged": 1635081457676
        }
      }
    },
    {
      "cell_type": "code",
      "source": [
        "\r\n",
        "datastore_name = 'workspaceblobstore'\r\n",
        "# get existing workspace\r\n",
        "workspace = Workspace.from_config()    \r\n",
        "# retrieve an existing datastore in the workspace by name\r\n",
        "datastore = Datastore.get(workspace, datastore_name)\r\n",
        "# create a TabularDataset from 3 file paths in datastore\r\n",
        "datastore_paths = [(datastore, 'UI/10-22-2021_045506_UTC/test.csv')]\r\n",
        "test = Dataset.Tabular.from_delimited_files(path=datastore_paths)\r\n",
        "test = test.to_pandas_dataframe()"
      ],
      "outputs": [],
      "execution_count": 3,
      "metadata": {
        "jupyter": {
          "source_hidden": false,
          "outputs_hidden": false
        },
        "nteract": {
          "transient": {
            "deleting": false
          }
        },
        "gather": {
          "logged": 1635081463274
        }
      }
    },
    {
      "cell_type": "code",
      "source": [
        "test.head(5)"
      ],
      "outputs": [
        {
          "output_type": "execute_result",
          "execution_count": 4,
          "data": {
            "text/plain": "  Item_ID     Item_W           Item_Type    Item_MRP Outlet_ID  Outlet_Year  \\\n0   DRM23  10.156725         Snack Foods  119.319482    OUT013         1999   \n1   FDG47  10.434425           Household  263.600449    OUT018         1987   \n2   FDN21  11.953589  Health and Hygiene  246.286990    OUT018         1997   \n3   FDZ23  14.948546               Dairy  136.200508    OUT046         2004   \n4   FDC16  11.080042              Canned  173.145664    OUT018         2009   \n\n  Outlet_Size Outlet_Location_Type  \n0        High               Tier 3  \n1        High               Tier 3  \n2        High               Tier 1  \n3      Medium               Tier 2  \n4      Medium               Tier 3  ",
            "text/html": "<div>\n<style scoped>\n    .dataframe tbody tr th:only-of-type {\n        vertical-align: middle;\n    }\n\n    .dataframe tbody tr th {\n        vertical-align: top;\n    }\n\n    .dataframe thead th {\n        text-align: right;\n    }\n</style>\n<table border=\"1\" class=\"dataframe\">\n  <thead>\n    <tr style=\"text-align: right;\">\n      <th></th>\n      <th>Item_ID</th>\n      <th>Item_W</th>\n      <th>Item_Type</th>\n      <th>Item_MRP</th>\n      <th>Outlet_ID</th>\n      <th>Outlet_Year</th>\n      <th>Outlet_Size</th>\n      <th>Outlet_Location_Type</th>\n    </tr>\n  </thead>\n  <tbody>\n    <tr>\n      <th>0</th>\n      <td>DRM23</td>\n      <td>10.156725</td>\n      <td>Snack Foods</td>\n      <td>119.319482</td>\n      <td>OUT013</td>\n      <td>1999</td>\n      <td>High</td>\n      <td>Tier 3</td>\n    </tr>\n    <tr>\n      <th>1</th>\n      <td>FDG47</td>\n      <td>10.434425</td>\n      <td>Household</td>\n      <td>263.600449</td>\n      <td>OUT018</td>\n      <td>1987</td>\n      <td>High</td>\n      <td>Tier 3</td>\n    </tr>\n    <tr>\n      <th>2</th>\n      <td>FDN21</td>\n      <td>11.953589</td>\n      <td>Health and Hygiene</td>\n      <td>246.286990</td>\n      <td>OUT018</td>\n      <td>1997</td>\n      <td>High</td>\n      <td>Tier 1</td>\n    </tr>\n    <tr>\n      <th>3</th>\n      <td>FDZ23</td>\n      <td>14.948546</td>\n      <td>Dairy</td>\n      <td>136.200508</td>\n      <td>OUT046</td>\n      <td>2004</td>\n      <td>Medium</td>\n      <td>Tier 2</td>\n    </tr>\n    <tr>\n      <th>4</th>\n      <td>FDC16</td>\n      <td>11.080042</td>\n      <td>Canned</td>\n      <td>173.145664</td>\n      <td>OUT018</td>\n      <td>2009</td>\n      <td>Medium</td>\n      <td>Tier 3</td>\n    </tr>\n  </tbody>\n</table>\n</div>"
          },
          "metadata": {}
        }
      ],
      "execution_count": 4,
      "metadata": {
        "jupyter": {
          "source_hidden": false,
          "outputs_hidden": false
        },
        "nteract": {
          "transient": {
            "deleting": false
          }
        },
        "gather": {
          "logged": 1635081463520
        }
      }
    },
    {
      "cell_type": "code",
      "source": [
        "# Import a train/test set into H2O\r\n",
        "from azureml.core import Workspace, Datastore, Dataset\r\n",
        "\r\n",
        "datastore_name = 'workspaceblobstore'\r\n",
        "# get existing workspace\r\n",
        "workspace = Workspace.from_config()    \r\n",
        "# retrieve an existing datastore in the workspace by name\r\n",
        "datastore = Datastore.get(workspace, datastore_name)\r\n",
        "# create a TabularDataset from 3 file paths in datastore\r\n",
        "datastore_paths = [(datastore, 'UI/10-22-2021_045409_UTC/train.csv')]\r\n",
        "train = Dataset.Tabular.from_delimited_files(path=datastore_paths)\r\n",
        "train = train.to_pandas_dataframe()"
      ],
      "outputs": [],
      "execution_count": 5,
      "metadata": {
        "jupyter": {
          "source_hidden": false,
          "outputs_hidden": false
        },
        "nteract": {
          "transient": {
            "deleting": false
          }
        },
        "gather": {
          "logged": 1635081464385
        }
      }
    },
    {
      "cell_type": "code",
      "source": [
        "train.head(5)"
      ],
      "outputs": [
        {
          "output_type": "execute_result",
          "execution_count": 6,
          "data": {
            "text/plain": "  Item_ID     Item_W      Item_Type    Item_MRP Outlet_ID  Outlet_Year  \\\n0   FDU32  21.027499   Baking Goods  197.352319    OUT046         2004   \n1   NCT54  21.102371           Meat  148.250214    OUT035         1987   \n2   FDW08  20.882263    Hard Drinks  205.465010    OUT035         1999   \n3   FDJ22  21.050435  Starchy Foods  253.417583    OUT046         1996   \n4   FDF47  21.247876   Baking Goods  240.871039    OUT035         1988   \n\n  Outlet_Size Outlet_Location_Type        Sales  \n0       Small               Tier 2  2689.457781  \n1       Small               Tier 1  3437.350375  \n2       Small               Tier 3  3129.967268  \n3       Small               Tier 1  1306.514376  \n4       Small               Tier 3  1739.769829  ",
            "text/html": "<div>\n<style scoped>\n    .dataframe tbody tr th:only-of-type {\n        vertical-align: middle;\n    }\n\n    .dataframe tbody tr th {\n        vertical-align: top;\n    }\n\n    .dataframe thead th {\n        text-align: right;\n    }\n</style>\n<table border=\"1\" class=\"dataframe\">\n  <thead>\n    <tr style=\"text-align: right;\">\n      <th></th>\n      <th>Item_ID</th>\n      <th>Item_W</th>\n      <th>Item_Type</th>\n      <th>Item_MRP</th>\n      <th>Outlet_ID</th>\n      <th>Outlet_Year</th>\n      <th>Outlet_Size</th>\n      <th>Outlet_Location_Type</th>\n      <th>Sales</th>\n    </tr>\n  </thead>\n  <tbody>\n    <tr>\n      <th>0</th>\n      <td>FDU32</td>\n      <td>21.027499</td>\n      <td>Baking Goods</td>\n      <td>197.352319</td>\n      <td>OUT046</td>\n      <td>2004</td>\n      <td>Small</td>\n      <td>Tier 2</td>\n      <td>2689.457781</td>\n    </tr>\n    <tr>\n      <th>1</th>\n      <td>NCT54</td>\n      <td>21.102371</td>\n      <td>Meat</td>\n      <td>148.250214</td>\n      <td>OUT035</td>\n      <td>1987</td>\n      <td>Small</td>\n      <td>Tier 1</td>\n      <td>3437.350375</td>\n    </tr>\n    <tr>\n      <th>2</th>\n      <td>FDW08</td>\n      <td>20.882263</td>\n      <td>Hard Drinks</td>\n      <td>205.465010</td>\n      <td>OUT035</td>\n      <td>1999</td>\n      <td>Small</td>\n      <td>Tier 3</td>\n      <td>3129.967268</td>\n    </tr>\n    <tr>\n      <th>3</th>\n      <td>FDJ22</td>\n      <td>21.050435</td>\n      <td>Starchy Foods</td>\n      <td>253.417583</td>\n      <td>OUT046</td>\n      <td>1996</td>\n      <td>Small</td>\n      <td>Tier 1</td>\n      <td>1306.514376</td>\n    </tr>\n    <tr>\n      <th>4</th>\n      <td>FDF47</td>\n      <td>21.247876</td>\n      <td>Baking Goods</td>\n      <td>240.871039</td>\n      <td>OUT035</td>\n      <td>1988</td>\n      <td>Small</td>\n      <td>Tier 3</td>\n      <td>1739.769829</td>\n    </tr>\n  </tbody>\n</table>\n</div>"
          },
          "metadata": {}
        }
      ],
      "execution_count": 6,
      "metadata": {
        "jupyter": {
          "source_hidden": false,
          "outputs_hidden": false
        },
        "nteract": {
          "transient": {
            "deleting": false
          }
        },
        "gather": {
          "logged": 1635081464621
        }
      }
    },
    {
      "cell_type": "code",
      "source": [
        "#Drop the ID columns\r\n",
        "\r\n",
        "#train_as_df=train_as_df.drop(['Item_ID','Outlet_ID'], axis = 1)\r\n",
        "#test_as_df=test_as_df.drop(['Item_ID','Outlet_ID'], axis = 1)\r\n",
        "\r\n",
        "# Dropping the outlet id column\r\n",
        "#train_as_df=train_as_df.drop(['Item_ID'], axis = 1)\r\n",
        "#test_as_df=test_as_df.drop(['Item_ID'], axis = 1)\r\n",
        "\r\n",
        "from scipy.stats import skew\r\n",
        "from matplotlib import pyplot\r\n",
        "from scipy.stats import boxcox\r\n",
        "from numpy import exp\r\n",
        "\r\n",
        "data = train['Item_MRP']\r\n",
        "print( '\\nSkewness for Item_MRP : ', skew(data))\r\n",
        "# histogram\r\n",
        "pyplot.hist(data)\r\n",
        "pyplot.show()\r\n",
        "\r\n",
        "data = train['Item_W']\r\n",
        "print( '\\nSkewness for Item_W : ', skew(data))\r\n",
        "# histogram\r\n",
        "pyplot.hist(data)\r\n",
        "pyplot.show()"
      ],
      "outputs": [
        {
          "output_type": "stream",
          "name": "stdout",
          "text": "\nSkewness for Item_MRP :  0.055660346208835844\n\nSkewness for Item_W :  -0.17953093828329283\n"
        },
        {
          "output_type": "display_data",
          "data": {
            "text/plain": "<Figure size 432x288 with 1 Axes>",
            "image/png": "[encoded data removed]"
          },
          "metadata": {
            "needs_background": "light"
          }
        },
        {
          "output_type": "display_data",
          "data": {
            "text/plain": "<Figure size 432x288 with 1 Axes>",
            "image/png": "[encoded data removed]"
          },
          "metadata": {
            "needs_background": "light"
          }
        }
      ],
      "execution_count": 7,
      "metadata": {
        "jupyter": {
          "source_hidden": false,
          "outputs_hidden": false
        },
        "nteract": {
          "transient": {
            "deleting": false
          }
        },
        "gather": {
          "logged": 1635081464878
        }
      }
    },
    {
      "cell_type": "code",
      "source": [
        "data = train['Sales']\r\n",
        "print( '\\nSkewness for Sales : ', skew(data))\r\n",
        "# histogram\r\n",
        "pyplot.hist(data)\r\n",
        "pyplot.show()\r\n",
        "\r\n",
        "plt.boxplot(data, vert=False)\r\n",
        "plt.title(\"Detecting outliers using Boxplot\")\r\n",
        "plt.xlabel('Sample')"
      ],
      "outputs": [
        {
          "output_type": "stream",
          "name": "stdout",
          "text": "\nSkewness for Sales :  1.1254297417477983\n"
        },
        {
          "output_type": "display_data",
          "data": {
            "text/plain": "<Figure size 432x288 with 1 Axes>",
            "image/png": "[encoded data removed]"
          },
          "metadata": {
            "needs_background": "light"
          }
        },
        {
          "output_type": "execute_result",
          "execution_count": 8,
          "data": {
            "text/plain": "Text(0.5, 0, 'Sample')"
          },
          "metadata": {}
        },
        {
          "output_type": "display_data",
          "data": {
            "text/plain": "<Figure size 432x288 with 1 Axes>",
            "image/png": "[encoded data removed]"
          },
          "metadata": {
            "needs_background": "light"
          }
        }
      ],
      "execution_count": 8,
      "metadata": {
        "jupyter": {
          "source_hidden": false,
          "outputs_hidden": false
        },
        "nteract": {
          "transient": {
            "deleting": false
          }
        },
        "gather": {
          "logged": 1635081465350
        }
      }
    },
    {
      "cell_type": "code",
      "source": [
        "# Create a new field Item_Group based on Item_Type\r\n",
        "\r\n",
        "# create a list of our conditions\r\n",
        "conditions = [\r\n",
        "    (train['Item_Type'] == 'Hard Drinks') | (train['Item_Type'] == 'Soft Drinks'),\r\n",
        "    (train['Item_Type'] == 'Others') | (train['Item_Type'] == 'Household') | (train['Item_Type'] == 'Health and Hygiene'),\r\n",
        "    (train['Item_Type'] == 'Baking Goods') | (train['Item_Type'] == 'Meat') | (train['Item_Type'] == 'Starchy Foods') | (train['Item_Type'] == 'Breads') | (train['Item_Type'] == 'Seafood'),\r\n",
        "    (train['Item_Type'] == 'Fruits and Vegetables') | (train['Item_Type'] == 'Breakfast') | (train['Item_Type'] == 'Snack Foods') | (train['Item_Type'] == 'Frozen Foods') | (train['Item_Type'] == 'Canned') | (train['Item_Type'] == 'Dairy')\r\n",
        "    ]\r\n",
        "\r\n",
        "# create a list of the values we want to assign for each condition\r\n",
        "values = ['Drinks', 'Non_Consummables', 'Food', 'Food']\r\n",
        "\r\n",
        "# create a list of our conditions\r\n",
        "conditions_t = [\r\n",
        "    (test['Item_Type'] == 'Hard Drinks') | (test['Item_Type'] == 'Soft Drinks'),\r\n",
        "    (test['Item_Type'] == 'Others') | (test['Item_Type'] == 'Household') | (test['Item_Type'] == 'Health and Hygiene'),\r\n",
        "    (test['Item_Type'] == 'Baking Goods') | (test['Item_Type'] == 'Meat') | (test['Item_Type'] == 'Starchy Foods') | (test['Item_Type'] == 'Breads') | (test['Item_Type'] == 'Seafood'),\r\n",
        "    (test['Item_Type'] == 'Fruits and Vegetables') | (test['Item_Type'] == 'Breakfast') | (test['Item_Type'] == 'Snack Foods') | (test['Item_Type'] == 'Frozen Foods') | (test['Item_Type'] == 'Canned') | (test['Item_Type'] == 'Dairy')\r\n",
        "    ]\r\n",
        "\r\n",
        "# create a list of the values we want to assign for each condition\r\n",
        "values_t = ['Drinks', 'Non_Consummables', 'Food', 'Food']"
      ],
      "outputs": [],
      "execution_count": 9,
      "metadata": {
        "jupyter": {
          "source_hidden": false,
          "outputs_hidden": false
        },
        "nteract": {
          "transient": {
            "deleting": false
          }
        },
        "gather": {
          "logged": 1635081465560
        }
      }
    },
    {
      "cell_type": "code",
      "source": [
        "train['Item_Group'] = np.select(conditions, values)\r\n",
        "test['Item_Group'] = np.select(conditions_t, values_t)"
      ],
      "outputs": [],
      "execution_count": 10,
      "metadata": {
        "jupyter": {
          "source_hidden": false,
          "outputs_hidden": false
        },
        "nteract": {
          "transient": {
            "deleting": false
          }
        },
        "gather": {
          "logged": 1635081465823
        }
      }
    },
    {
      "cell_type": "code",
      "source": [
        "#Derive the outlet age column\r\n",
        "\r\n",
        "train['Outlet_Age'] = 2021 - train['Outlet_Year']\r\n",
        "train=train.drop(['Outlet_Year'], axis = 1)\r\n",
        "\r\n",
        "test['Outlet_Age'] = 2021 - test['Outlet_Year']\r\n",
        "test=test.drop(['Outlet_Year'], axis = 1)"
      ],
      "outputs": [],
      "execution_count": 11,
      "metadata": {
        "jupyter": {
          "source_hidden": false,
          "outputs_hidden": false
        },
        "nteract": {
          "transient": {
            "deleting": false
          }
        },
        "gather": {
          "logged": 1635081466006
        }
      }
    },
    {
      "cell_type": "code",
      "source": [
        "#Check for any missing values - train\r\n",
        "\r\n",
        "round((train.isnull().sum() * 100/ len(train)),2).sort_values(ascending=False)"
      ],
      "outputs": [
        {
          "output_type": "execute_result",
          "execution_count": 12,
          "data": {
            "text/plain": "Item_ID                 0.0\nItem_W                  0.0\nItem_Type               0.0\nItem_MRP                0.0\nOutlet_ID               0.0\nOutlet_Size             0.0\nOutlet_Location_Type    0.0\nSales                   0.0\nItem_Group              0.0\nOutlet_Age              0.0\ndtype: float64"
          },
          "metadata": {}
        }
      ],
      "execution_count": 12,
      "metadata": {
        "jupyter": {
          "source_hidden": false,
          "outputs_hidden": false
        },
        "nteract": {
          "transient": {
            "deleting": false
          }
        },
        "gather": {
          "logged": 1635081466298
        }
      }
    },
    {
      "cell_type": "code",
      "source": [
        "#Check for any missing values - test\r\n",
        "\r\n",
        "round((test.isnull().sum() * 100/ len(test)),2).sort_values(ascending=False)"
      ],
      "outputs": [
        {
          "output_type": "execute_result",
          "execution_count": 13,
          "data": {
            "text/plain": "Item_ID                 0.0\nItem_W                  0.0\nItem_Type               0.0\nItem_MRP                0.0\nOutlet_ID               0.0\nOutlet_Size             0.0\nOutlet_Location_Type    0.0\nItem_Group              0.0\nOutlet_Age              0.0\ndtype: float64"
          },
          "metadata": {}
        }
      ],
      "execution_count": 13,
      "metadata": {
        "jupyter": {
          "source_hidden": false,
          "outputs_hidden": false
        },
        "nteract": {
          "transient": {
            "deleting": false
          }
        },
        "gather": {
          "logged": 1635081466514
        }
      }
    },
    {
      "cell_type": "code",
      "source": [
        "# Break the item id into 2 columns item code and item number\r\n",
        "\r\n",
        "train['Item_Code'] = [x[:3] for x in train['Item_ID']]\r\n",
        "train['Item_Number'] = train['Item_ID'].str[-2:]\r\n",
        "train = train.drop(['Item_ID'], axis = 1)\r\n",
        "\r\n",
        "test['Item_Code'] = [x[:3] for x in test['Item_ID']]\r\n",
        "test['Item_Number'] = test['Item_ID'].str[-2:]\r\n",
        "test = test.drop(['Item_ID'], axis = 1)\r\n",
        "\r\n",
        "# Convert item code to numeric\r\n",
        "#train[[\"Item_Number\"]] = train[[\"Item_Number\"]].apply(pd.to_numeric)\r\n",
        "#test[[\"Item_Number\"]] = test[[\"Item_Number\"]].apply(pd.to_numeric)\r\n",
        "\r\n",
        "#Convert Item_Number to character and sppend a prefix\r\n",
        "train['Item_Number'] = '__' + train['Item_Number'].astype(str)\r\n",
        "test['Item_Number'] = '__' + test['Item_Number'].astype(str)"
      ],
      "outputs": [],
      "execution_count": 14,
      "metadata": {
        "jupyter": {
          "source_hidden": false,
          "outputs_hidden": false
        },
        "nteract": {
          "transient": {
            "deleting": false
          }
        },
        "gather": {
          "logged": 1635081466728
        }
      }
    },
    {
      "cell_type": "code",
      "source": [
        "train.head(5)"
      ],
      "outputs": [
        {
          "output_type": "execute_result",
          "execution_count": 15,
          "data": {
            "text/plain": "      Item_W      Item_Type    Item_MRP Outlet_ID Outlet_Size  \\\n0  21.027499   Baking Goods  197.352319    OUT046       Small   \n1  21.102371           Meat  148.250214    OUT035       Small   \n2  20.882263    Hard Drinks  205.465010    OUT035       Small   \n3  21.050435  Starchy Foods  253.417583    OUT046       Small   \n4  21.247876   Baking Goods  240.871039    OUT035       Small   \n\n  Outlet_Location_Type        Sales Item_Group  Outlet_Age Item_Code  \\\n0               Tier 2  2689.457781       Food          17       FDU   \n1               Tier 1  3437.350375       Food          34       NCT   \n2               Tier 3  3129.967268     Drinks          22       FDW   \n3               Tier 1  1306.514376       Food          25       FDJ   \n4               Tier 3  1739.769829       Food          33       FDF   \n\n  Item_Number  \n0        __32  \n1        __54  \n2        __08  \n3        __22  \n4        __47  ",
            "text/html": "<div>\n<style scoped>\n    .dataframe tbody tr th:only-of-type {\n        vertical-align: middle;\n    }\n\n    .dataframe tbody tr th {\n        vertical-align: top;\n    }\n\n    .dataframe thead th {\n        text-align: right;\n    }\n</style>\n<table border=\"1\" class=\"dataframe\">\n  <thead>\n    <tr style=\"text-align: right;\">\n      <th></th>\n      <th>Item_W</th>\n      <th>Item_Type</th>\n      <th>Item_MRP</th>\n      <th>Outlet_ID</th>\n      <th>Outlet_Size</th>\n      <th>Outlet_Location_Type</th>\n      <th>Sales</th>\n      <th>Item_Group</th>\n      <th>Outlet_Age</th>\n      <th>Item_Code</th>\n      <th>Item_Number</th>\n    </tr>\n  </thead>\n  <tbody>\n    <tr>\n      <th>0</th>\n      <td>21.027499</td>\n      <td>Baking Goods</td>\n      <td>197.352319</td>\n      <td>OUT046</td>\n      <td>Small</td>\n      <td>Tier 2</td>\n      <td>2689.457781</td>\n      <td>Food</td>\n      <td>17</td>\n      <td>FDU</td>\n      <td>__32</td>\n    </tr>\n    <tr>\n      <th>1</th>\n      <td>21.102371</td>\n      <td>Meat</td>\n      <td>148.250214</td>\n      <td>OUT035</td>\n      <td>Small</td>\n      <td>Tier 1</td>\n      <td>3437.350375</td>\n      <td>Food</td>\n      <td>34</td>\n      <td>NCT</td>\n      <td>__54</td>\n    </tr>\n    <tr>\n      <th>2</th>\n      <td>20.882263</td>\n      <td>Hard Drinks</td>\n      <td>205.465010</td>\n      <td>OUT035</td>\n      <td>Small</td>\n      <td>Tier 3</td>\n      <td>3129.967268</td>\n      <td>Drinks</td>\n      <td>22</td>\n      <td>FDW</td>\n      <td>__08</td>\n    </tr>\n    <tr>\n      <th>3</th>\n      <td>21.050435</td>\n      <td>Starchy Foods</td>\n      <td>253.417583</td>\n      <td>OUT046</td>\n      <td>Small</td>\n      <td>Tier 1</td>\n      <td>1306.514376</td>\n      <td>Food</td>\n      <td>25</td>\n      <td>FDJ</td>\n      <td>__22</td>\n    </tr>\n    <tr>\n      <th>4</th>\n      <td>21.247876</td>\n      <td>Baking Goods</td>\n      <td>240.871039</td>\n      <td>OUT035</td>\n      <td>Small</td>\n      <td>Tier 3</td>\n      <td>1739.769829</td>\n      <td>Food</td>\n      <td>33</td>\n      <td>FDF</td>\n      <td>__47</td>\n    </tr>\n  </tbody>\n</table>\n</div>"
          },
          "metadata": {}
        }
      ],
      "execution_count": 15,
      "metadata": {
        "jupyter": {
          "source_hidden": false,
          "outputs_hidden": false
        },
        "nteract": {
          "transient": {
            "deleting": false
          }
        },
        "gather": {
          "logged": 1635081466979
        }
      }
    },
    {
      "cell_type": "code",
      "source": [
        "test.head(5)"
      ],
      "outputs": [
        {
          "output_type": "execute_result",
          "execution_count": 16,
          "data": {
            "text/plain": "      Item_W           Item_Type    Item_MRP Outlet_ID Outlet_Size  \\\n0  10.156725         Snack Foods  119.319482    OUT013        High   \n1  10.434425           Household  263.600449    OUT018        High   \n2  11.953589  Health and Hygiene  246.286990    OUT018        High   \n3  14.948546               Dairy  136.200508    OUT046      Medium   \n4  11.080042              Canned  173.145664    OUT018      Medium   \n\n  Outlet_Location_Type        Item_Group  Outlet_Age Item_Code Item_Number  \n0               Tier 3              Food          22       DRM        __23  \n1               Tier 3  Non_Consummables          34       FDG        __47  \n2               Tier 1  Non_Consummables          24       FDN        __21  \n3               Tier 2              Food          17       FDZ        __23  \n4               Tier 3              Food          12       FDC        __16  ",
            "text/html": "<div>\n<style scoped>\n    .dataframe tbody tr th:only-of-type {\n        vertical-align: middle;\n    }\n\n    .dataframe tbody tr th {\n        vertical-align: top;\n    }\n\n    .dataframe thead th {\n        text-align: right;\n    }\n</style>\n<table border=\"1\" class=\"dataframe\">\n  <thead>\n    <tr style=\"text-align: right;\">\n      <th></th>\n      <th>Item_W</th>\n      <th>Item_Type</th>\n      <th>Item_MRP</th>\n      <th>Outlet_ID</th>\n      <th>Outlet_Size</th>\n      <th>Outlet_Location_Type</th>\n      <th>Item_Group</th>\n      <th>Outlet_Age</th>\n      <th>Item_Code</th>\n      <th>Item_Number</th>\n    </tr>\n  </thead>\n  <tbody>\n    <tr>\n      <th>0</th>\n      <td>10.156725</td>\n      <td>Snack Foods</td>\n      <td>119.319482</td>\n      <td>OUT013</td>\n      <td>High</td>\n      <td>Tier 3</td>\n      <td>Food</td>\n      <td>22</td>\n      <td>DRM</td>\n      <td>__23</td>\n    </tr>\n    <tr>\n      <th>1</th>\n      <td>10.434425</td>\n      <td>Household</td>\n      <td>263.600449</td>\n      <td>OUT018</td>\n      <td>High</td>\n      <td>Tier 3</td>\n      <td>Non_Consummables</td>\n      <td>34</td>\n      <td>FDG</td>\n      <td>__47</td>\n    </tr>\n    <tr>\n      <th>2</th>\n      <td>11.953589</td>\n      <td>Health and Hygiene</td>\n      <td>246.286990</td>\n      <td>OUT018</td>\n      <td>High</td>\n      <td>Tier 1</td>\n      <td>Non_Consummables</td>\n      <td>24</td>\n      <td>FDN</td>\n      <td>__21</td>\n    </tr>\n    <tr>\n      <th>3</th>\n      <td>14.948546</td>\n      <td>Dairy</td>\n      <td>136.200508</td>\n      <td>OUT046</td>\n      <td>Medium</td>\n      <td>Tier 2</td>\n      <td>Food</td>\n      <td>17</td>\n      <td>FDZ</td>\n      <td>__23</td>\n    </tr>\n    <tr>\n      <th>4</th>\n      <td>11.080042</td>\n      <td>Canned</td>\n      <td>173.145664</td>\n      <td>OUT018</td>\n      <td>Medium</td>\n      <td>Tier 3</td>\n      <td>Food</td>\n      <td>12</td>\n      <td>FDC</td>\n      <td>__16</td>\n    </tr>\n  </tbody>\n</table>\n</div>"
          },
          "metadata": {}
        }
      ],
      "execution_count": 16,
      "metadata": {
        "jupyter": {
          "source_hidden": false,
          "outputs_hidden": false
        },
        "nteract": {
          "transient": {
            "deleting": false
          }
        },
        "gather": {
          "logged": 1635081467198
        }
      }
    },
    {
      "cell_type": "code",
      "source": [
        "# One HOT Encoding\r\n",
        "\r\n",
        "def encode_and_bind(original_dataframe, feature_to_encode):\r\n",
        "    dummies = pd.get_dummies(original_dataframe[[feature_to_encode]])\r\n",
        "    original_dataframe = pd.concat([original_dataframe, dummies], axis=1)\r\n",
        "    original_dataframe=original_dataframe.drop([feature_to_encode], axis = 1)\r\n",
        "    return(original_dataframe)"
      ],
      "outputs": [],
      "execution_count": 17,
      "metadata": {
        "jupyter": {
          "source_hidden": false,
          "outputs_hidden": false
        },
        "nteract": {
          "transient": {
            "deleting": false
          }
        },
        "gather": {
          "logged": 1635081467390
        }
      }
    },
    {
      "cell_type": "code",
      "source": [
        "# Label Encoding\r\n",
        "\r\n",
        "def label_encode(original_dataframe, feature_to_encode):\r\n",
        "    # label_encoder object knows how to understand word labels.\r\n",
        "    label_encoder = preprocessing.LabelEncoder()    \r\n",
        "    # Encode labels in column 'species'.\r\n",
        "    original_dataframe[feature_to_encode]= label_encoder.fit_transform(original_dataframe[feature_to_encode])  \r\n",
        "    return(original_dataframe)"
      ],
      "outputs": [],
      "execution_count": 18,
      "metadata": {
        "jupyter": {
          "source_hidden": false,
          "outputs_hidden": false
        },
        "nteract": {
          "transient": {
            "deleting": false
          }
        },
        "gather": {
          "logged": 1635081467582
        }
      }
    },
    {
      "cell_type": "code",
      "source": [
        "train = encode_and_bind(train, 'Item_Type')\r\n",
        "train = label_encode(train, 'Outlet_Size')\r\n",
        "train = label_encode(train, 'Outlet_Location_Type')\r\n",
        "train = encode_and_bind(train, 'Outlet_ID')\r\n",
        "train = encode_and_bind(train, 'Item_Code')\r\n",
        "train = encode_and_bind(train, 'Item_Group')\r\n",
        "\r\n",
        "train = encode_and_bind(train, 'Item_Number')"
      ],
      "outputs": [],
      "execution_count": 19,
      "metadata": {
        "jupyter": {
          "source_hidden": false,
          "outputs_hidden": false
        },
        "nteract": {
          "transient": {
            "deleting": false
          }
        },
        "gather": {
          "logged": 1635081467768
        }
      }
    },
    {
      "cell_type": "code",
      "source": [
        "test = encode_and_bind(test, 'Item_Type')\r\n",
        "test = label_encode(test, 'Outlet_Size')\r\n",
        "test = label_encode(test, 'Outlet_Location_Type')\r\n",
        "test = encode_and_bind(test, 'Outlet_ID')\r\n",
        "test = encode_and_bind(test, 'Item_Code')\r\n",
        "test = encode_and_bind(test, 'Item_Group')\r\n",
        "\r\n",
        "test = encode_and_bind(test, 'Item_Number')"
      ],
      "outputs": [],
      "execution_count": 20,
      "metadata": {
        "jupyter": {
          "source_hidden": false,
          "outputs_hidden": false
        },
        "nteract": {
          "transient": {
            "deleting": false
          }
        },
        "gather": {
          "logged": 1635081467950
        }
      }
    },
    {
      "cell_type": "code",
      "source": [
        "train.head(5)"
      ],
      "outputs": [
        {
          "output_type": "execute_result",
          "execution_count": 21,
          "data": {
            "text/plain": "      Item_W    Item_MRP  Outlet_Size  Outlet_Location_Type        Sales  \\\n0  21.027499  197.352319            2                     1  2689.457781   \n1  21.102371  148.250214            2                     0  3437.350375   \n2  20.882263  205.465010            2                     2  3129.967268   \n3  21.050435  253.417583            2                     0  1306.514376   \n4  21.247876  240.871039            2                     2  1739.769829   \n\n   Outlet_Age  Item_Type_Baking Goods  Item_Type_Breads  Item_Type_Breakfast  \\\n0          17                       1                 0                    0   \n1          34                       0                 0                    0   \n2          22                       0                 0                    0   \n3          25                       0                 0                    0   \n4          33                       1                 0                    0   \n\n   Item_Type_Canned  ...  Item_Number___51  Item_Number___52  \\\n0                 0  ...                 0                 0   \n1                 0  ...                 0                 0   \n2                 0  ...                 0                 0   \n3                 0  ...                 0                 0   \n4                 0  ...                 0                 0   \n\n   Item_Number___53  Item_Number___54  Item_Number___55  Item_Number___56  \\\n0                 0                 0                 0                 0   \n1                 0                 1                 0                 0   \n2                 0                 0                 0                 0   \n3                 0                 0                 0                 0   \n4                 0                 0                 0                 0   \n\n   Item_Number___57  Item_Number___58  Item_Number___59  Item_Number___60  \n0                 0                 0                 0                 0  \n1                 0                 0                 0                 0  \n2                 0                 0                 0                 0  \n3                 0                 0                 0                 0  \n4                 0                 0                 0                 0  \n\n[5 rows x 160 columns]",
            "text/html": "<div>\n<style scoped>\n    .dataframe tbody tr th:only-of-type {\n        vertical-align: middle;\n    }\n\n    .dataframe tbody tr th {\n        vertical-align: top;\n    }\n\n    .dataframe thead th {\n        text-align: right;\n    }\n</style>\n<table border=\"1\" class=\"dataframe\">\n  <thead>\n    <tr style=\"text-align: right;\">\n      <th></th>\n      <th>Item_W</th>\n      <th>Item_MRP</th>\n      <th>Outlet_Size</th>\n      <th>Outlet_Location_Type</th>\n      <th>Sales</th>\n      <th>Outlet_Age</th>\n      <th>Item_Type_Baking Goods</th>\n      <th>Item_Type_Breads</th>\n      <th>Item_Type_Breakfast</th>\n      <th>Item_Type_Canned</th>\n      <th>...</th>\n      <th>Item_Number___51</th>\n      <th>Item_Number___52</th>\n      <th>Item_Number___53</th>\n      <th>Item_Number___54</th>\n      <th>Item_Number___55</th>\n      <th>Item_Number___56</th>\n      <th>Item_Number___57</th>\n      <th>Item_Number___58</th>\n      <th>Item_Number___59</th>\n      <th>Item_Number___60</th>\n    </tr>\n  </thead>\n  <tbody>\n    <tr>\n      <th>0</th>\n      <td>21.027499</td>\n      <td>197.352319</td>\n      <td>2</td>\n      <td>1</td>\n      <td>2689.457781</td>\n      <td>17</td>\n      <td>1</td>\n      <td>0</td>\n      <td>0</td>\n      <td>0</td>\n      <td>...</td>\n      <td>0</td>\n      <td>0</td>\n      <td>0</td>\n      <td>0</td>\n      <td>0</td>\n      <td>0</td>\n      <td>0</td>\n      <td>0</td>\n      <td>0</td>\n      <td>0</td>\n    </tr>\n    <tr>\n      <th>1</th>\n      <td>21.102371</td>\n      <td>148.250214</td>\n      <td>2</td>\n      <td>0</td>\n      <td>3437.350375</td>\n      <td>34</td>\n      <td>0</td>\n      <td>0</td>\n      <td>0</td>\n      <td>0</td>\n      <td>...</td>\n      <td>0</td>\n      <td>0</td>\n      <td>0</td>\n      <td>1</td>\n      <td>0</td>\n      <td>0</td>\n      <td>0</td>\n      <td>0</td>\n      <td>0</td>\n      <td>0</td>\n    </tr>\n    <tr>\n      <th>2</th>\n      <td>20.882263</td>\n      <td>205.465010</td>\n      <td>2</td>\n      <td>2</td>\n      <td>3129.967268</td>\n      <td>22</td>\n      <td>0</td>\n      <td>0</td>\n      <td>0</td>\n      <td>0</td>\n      <td>...</td>\n      <td>0</td>\n      <td>0</td>\n      <td>0</td>\n      <td>0</td>\n      <td>0</td>\n      <td>0</td>\n      <td>0</td>\n      <td>0</td>\n      <td>0</td>\n      <td>0</td>\n    </tr>\n    <tr>\n      <th>3</th>\n      <td>21.050435</td>\n      <td>253.417583</td>\n      <td>2</td>\n      <td>0</td>\n      <td>1306.514376</td>\n      <td>25</td>\n      <td>0</td>\n      <td>0</td>\n      <td>0</td>\n      <td>0</td>\n      <td>...</td>\n      <td>0</td>\n      <td>0</td>\n      <td>0</td>\n      <td>0</td>\n      <td>0</td>\n      <td>0</td>\n      <td>0</td>\n      <td>0</td>\n      <td>0</td>\n      <td>0</td>\n    </tr>\n    <tr>\n      <th>4</th>\n      <td>21.247876</td>\n      <td>240.871039</td>\n      <td>2</td>\n      <td>2</td>\n      <td>1739.769829</td>\n      <td>33</td>\n      <td>1</td>\n      <td>0</td>\n      <td>0</td>\n      <td>0</td>\n      <td>...</td>\n      <td>0</td>\n      <td>0</td>\n      <td>0</td>\n      <td>0</td>\n      <td>0</td>\n      <td>0</td>\n      <td>0</td>\n      <td>0</td>\n      <td>0</td>\n      <td>0</td>\n    </tr>\n  </tbody>\n</table>\n<p>5 rows × 160 columns</p>\n</div>"
          },
          "metadata": {}
        }
      ],
      "execution_count": 21,
      "metadata": {
        "jupyter": {
          "source_hidden": false,
          "outputs_hidden": false
        },
        "nteract": {
          "transient": {
            "deleting": false
          }
        },
        "gather": {
          "logged": 1635081468164
        }
      }
    },
    {
      "cell_type": "code",
      "source": [
        "test.head(5)"
      ],
      "outputs": [
        {
          "output_type": "execute_result",
          "execution_count": 22,
          "data": {
            "text/plain": "      Item_W    Item_MRP  Outlet_Size  Outlet_Location_Type  Outlet_Age  \\\n0  10.156725  119.319482            0                     2          22   \n1  10.434425  263.600449            0                     2          34   \n2  11.953589  246.286990            0                     0          24   \n3  14.948546  136.200508            1                     1          17   \n4  11.080042  173.145664            1                     2          12   \n\n   Item_Type_Baking Goods  Item_Type_Breads  Item_Type_Breakfast  \\\n0                       0                 0                    0   \n1                       0                 0                    0   \n2                       0                 0                    0   \n3                       0                 0                    0   \n4                       0                 0                    0   \n\n   Item_Type_Canned  Item_Type_Dairy  ...  Item_Number___51  Item_Number___52  \\\n0                 0                0  ...                 0                 0   \n1                 0                0  ...                 0                 0   \n2                 0                0  ...                 0                 0   \n3                 0                1  ...                 0                 0   \n4                 1                0  ...                 0                 0   \n\n   Item_Number___53  Item_Number___54  Item_Number___55  Item_Number___56  \\\n0                 0                 0                 0                 0   \n1                 0                 0                 0                 0   \n2                 0                 0                 0                 0   \n3                 0                 0                 0                 0   \n4                 0                 0                 0                 0   \n\n   Item_Number___57  Item_Number___58  Item_Number___59  Item_Number___60  \n0                 0                 0                 0                 0  \n1                 0                 0                 0                 0  \n2                 0                 0                 0                 0  \n3                 0                 0                 0                 0  \n4                 0                 0                 0                 0  \n\n[5 rows x 159 columns]",
            "text/html": "<div>\n<style scoped>\n    .dataframe tbody tr th:only-of-type {\n        vertical-align: middle;\n    }\n\n    .dataframe tbody tr th {\n        vertical-align: top;\n    }\n\n    .dataframe thead th {\n        text-align: right;\n    }\n</style>\n<table border=\"1\" class=\"dataframe\">\n  <thead>\n    <tr style=\"text-align: right;\">\n      <th></th>\n      <th>Item_W</th>\n      <th>Item_MRP</th>\n      <th>Outlet_Size</th>\n      <th>Outlet_Location_Type</th>\n      <th>Outlet_Age</th>\n      <th>Item_Type_Baking Goods</th>\n      <th>Item_Type_Breads</th>\n      <th>Item_Type_Breakfast</th>\n      <th>Item_Type_Canned</th>\n      <th>Item_Type_Dairy</th>\n      <th>...</th>\n      <th>Item_Number___51</th>\n      <th>Item_Number___52</th>\n      <th>Item_Number___53</th>\n      <th>Item_Number___54</th>\n      <th>Item_Number___55</th>\n      <th>Item_Number___56</th>\n      <th>Item_Number___57</th>\n      <th>Item_Number___58</th>\n      <th>Item_Number___59</th>\n      <th>Item_Number___60</th>\n    </tr>\n  </thead>\n  <tbody>\n    <tr>\n      <th>0</th>\n      <td>10.156725</td>\n      <td>119.319482</td>\n      <td>0</td>\n      <td>2</td>\n      <td>22</td>\n      <td>0</td>\n      <td>0</td>\n      <td>0</td>\n      <td>0</td>\n      <td>0</td>\n      <td>...</td>\n      <td>0</td>\n      <td>0</td>\n      <td>0</td>\n      <td>0</td>\n      <td>0</td>\n      <td>0</td>\n      <td>0</td>\n      <td>0</td>\n      <td>0</td>\n      <td>0</td>\n    </tr>\n    <tr>\n      <th>1</th>\n      <td>10.434425</td>\n      <td>263.600449</td>\n      <td>0</td>\n      <td>2</td>\n      <td>34</td>\n      <td>0</td>\n      <td>0</td>\n      <td>0</td>\n      <td>0</td>\n      <td>0</td>\n      <td>...</td>\n      <td>0</td>\n      <td>0</td>\n      <td>0</td>\n      <td>0</td>\n      <td>0</td>\n      <td>0</td>\n      <td>0</td>\n      <td>0</td>\n      <td>0</td>\n      <td>0</td>\n    </tr>\n    <tr>\n      <th>2</th>\n      <td>11.953589</td>\n      <td>246.286990</td>\n      <td>0</td>\n      <td>0</td>\n      <td>24</td>\n      <td>0</td>\n      <td>0</td>\n      <td>0</td>\n      <td>0</td>\n      <td>0</td>\n      <td>...</td>\n      <td>0</td>\n      <td>0</td>\n      <td>0</td>\n      <td>0</td>\n      <td>0</td>\n      <td>0</td>\n      <td>0</td>\n      <td>0</td>\n      <td>0</td>\n      <td>0</td>\n    </tr>\n    <tr>\n      <th>3</th>\n      <td>14.948546</td>\n      <td>136.200508</td>\n      <td>1</td>\n      <td>1</td>\n      <td>17</td>\n      <td>0</td>\n      <td>0</td>\n      <td>0</td>\n      <td>0</td>\n      <td>1</td>\n      <td>...</td>\n      <td>0</td>\n      <td>0</td>\n      <td>0</td>\n      <td>0</td>\n      <td>0</td>\n      <td>0</td>\n      <td>0</td>\n      <td>0</td>\n      <td>0</td>\n      <td>0</td>\n    </tr>\n    <tr>\n      <th>4</th>\n      <td>11.080042</td>\n      <td>173.145664</td>\n      <td>1</td>\n      <td>2</td>\n      <td>12</td>\n      <td>0</td>\n      <td>0</td>\n      <td>0</td>\n      <td>1</td>\n      <td>0</td>\n      <td>...</td>\n      <td>0</td>\n      <td>0</td>\n      <td>0</td>\n      <td>0</td>\n      <td>0</td>\n      <td>0</td>\n      <td>0</td>\n      <td>0</td>\n      <td>0</td>\n      <td>0</td>\n    </tr>\n  </tbody>\n</table>\n<p>5 rows × 159 columns</p>\n</div>"
          },
          "metadata": {}
        }
      ],
      "execution_count": 22,
      "metadata": {
        "jupyter": {
          "source_hidden": false,
          "outputs_hidden": false
        },
        "nteract": {
          "transient": {
            "deleting": false
          }
        },
        "gather": {
          "logged": 1635081468372
        }
      }
    },
    {
      "cell_type": "code",
      "source": [
        "#Convert pandas dataframe back to H2O frame\r\n",
        "train = h2o.H2OFrame(train)\r\n",
        "test = h2o.H2OFrame(test)"
      ],
      "outputs": [
        {
          "output_type": "stream",
          "name": "stdout",
          "text": "Parse progress: |████████████████████████████████████████████████████████████████| (done) 100%\nParse progress: |████████████████████████████████████████████████████████████████| (done) 100%\n"
        }
      ],
      "execution_count": 23,
      "metadata": {
        "jupyter": {
          "source_hidden": false,
          "outputs_hidden": false
        },
        "nteract": {
          "transient": {
            "deleting": false
          }
        },
        "gather": {
          "logged": 1635081476678
        }
      }
    },
    {
      "cell_type": "code",
      "source": [
        "# Identify predictors and response\r\n",
        "x = train.columns\r\n",
        "y = \"Sales\"\r\n",
        "x.remove(y)"
      ],
      "outputs": [],
      "execution_count": 24,
      "metadata": {
        "jupyter": {
          "source_hidden": false,
          "outputs_hidden": false
        },
        "nteract": {
          "transient": {
            "deleting": false
          }
        },
        "gather": {
          "logged": 1635081476892
        }
      }
    },
    {
      "cell_type": "code",
      "source": [
        "# Run AutoML for 10 base models (limited to 1 hour max runtime by default)\r\n",
        "\r\n",
        "aml = H2OAutoML(max_models=25, seed=1)\r\n",
        "aml.train(x=x, y=y, training_frame=train) "
      ],
      "outputs": [
        {
          "output_type": "stream",
          "name": "stdout",
          "text": "AutoML progress: |█████ (cancelled)\n"
        },
        {
          "output_type": "error",
          "ename": "H2OJobCancelled",
          "evalue": "Job<$03017f00000132d4ffffffff$_ae8fed2106f74e06a7b7fa31f1b04f6d> was cancelled by the user.",
          "traceback": [
            "\u001b[0;31m---------------------------------------------------------------------------\u001b[0m",
            "\u001b[0;31mH2OJobCancelled\u001b[0m                           Traceback (most recent call last)",
            "\u001b[0;32m/tmp/ipykernel_92211/2607553258.py\u001b[0m in \u001b[0;36m<module>\u001b[0;34m\u001b[0m\n\u001b[1;32m      2\u001b[0m \u001b[0;34m\u001b[0m\u001b[0m\n\u001b[1;32m      3\u001b[0m \u001b[0maml\u001b[0m \u001b[0;34m=\u001b[0m \u001b[0mH2OAutoML\u001b[0m\u001b[0;34m(\u001b[0m\u001b[0mmax_models\u001b[0m\u001b[0;34m=\u001b[0m\u001b[0;36m10\u001b[0m\u001b[0;34m,\u001b[0m \u001b[0mseed\u001b[0m\u001b[0;34m=\u001b[0m\u001b[0;36m1\u001b[0m\u001b[0;34m)\u001b[0m\u001b[0;34m\u001b[0m\u001b[0;34m\u001b[0m\u001b[0m\n\u001b[0;32m----> 4\u001b[0;31m \u001b[0maml\u001b[0m\u001b[0;34m.\u001b[0m\u001b[0mtrain\u001b[0m\u001b[0;34m(\u001b[0m\u001b[0mx\u001b[0m\u001b[0;34m=\u001b[0m\u001b[0mx\u001b[0m\u001b[0;34m,\u001b[0m \u001b[0my\u001b[0m\u001b[0;34m=\u001b[0m\u001b[0my\u001b[0m\u001b[0;34m,\u001b[0m \u001b[0mtraining_frame\u001b[0m\u001b[0;34m=\u001b[0m\u001b[0mtrain\u001b[0m\u001b[0;34m)\u001b[0m\u001b[0;34m\u001b[0m\u001b[0;34m\u001b[0m\u001b[0m\n\u001b[0m",
            "\u001b[0;32m/anaconda/envs/azureml_py38/lib/python3.8/site-packages/h2o/automl/_estimator.py\u001b[0m in \u001b[0;36mtrain\u001b[0;34m(self, x, y, training_frame, fold_column, weights_column, validation_frame, leaderboard_frame, blending_frame)\u001b[0m\n\u001b[1;32m    570\u001b[0m         \u001b[0mpoll_updates\u001b[0m \u001b[0;34m=\u001b[0m \u001b[0mft\u001b[0m\u001b[0;34m.\u001b[0m\u001b[0mpartial\u001b[0m\u001b[0;34m(\u001b[0m\u001b[0mself\u001b[0m\u001b[0;34m.\u001b[0m\u001b[0m_poll_training_updates\u001b[0m\u001b[0;34m,\u001b[0m \u001b[0mverbosity\u001b[0m\u001b[0;34m=\u001b[0m\u001b[0mself\u001b[0m\u001b[0;34m.\u001b[0m\u001b[0m_verbosity\u001b[0m\u001b[0;34m,\u001b[0m \u001b[0mstate\u001b[0m\u001b[0;34m=\u001b[0m\u001b[0;34m{\u001b[0m\u001b[0;34m}\u001b[0m\u001b[0;34m)\u001b[0m\u001b[0;34m\u001b[0m\u001b[0;34m\u001b[0m\u001b[0m\n\u001b[1;32m    571\u001b[0m         \u001b[0;32mtry\u001b[0m\u001b[0;34m:\u001b[0m\u001b[0;34m\u001b[0m\u001b[0;34m\u001b[0m\u001b[0m\n\u001b[0;32m--> 572\u001b[0;31m             \u001b[0mself\u001b[0m\u001b[0;34m.\u001b[0m\u001b[0m_job\u001b[0m\u001b[0;34m.\u001b[0m\u001b[0mpoll\u001b[0m\u001b[0;34m(\u001b[0m\u001b[0mpoll_updates\u001b[0m\u001b[0;34m=\u001b[0m\u001b[0mpoll_updates\u001b[0m\u001b[0;34m)\u001b[0m\u001b[0;34m\u001b[0m\u001b[0;34m\u001b[0m\u001b[0m\n\u001b[0m\u001b[1;32m    573\u001b[0m         \u001b[0;32mfinally\u001b[0m\u001b[0;34m:\u001b[0m\u001b[0;34m\u001b[0m\u001b[0;34m\u001b[0m\u001b[0m\n\u001b[1;32m    574\u001b[0m             \u001b[0mpoll_updates\u001b[0m\u001b[0;34m(\u001b[0m\u001b[0mself\u001b[0m\u001b[0;34m.\u001b[0m\u001b[0m_job\u001b[0m\u001b[0;34m,\u001b[0m \u001b[0;36m1\u001b[0m\u001b[0;34m)\u001b[0m\u001b[0;34m\u001b[0m\u001b[0;34m\u001b[0m\u001b[0m\n",
            "\u001b[0;32m/anaconda/envs/azureml_py38/lib/python3.8/site-packages/h2o/job.py\u001b[0m in \u001b[0;36mpoll\u001b[0;34m(self, poll_updates)\u001b[0m\n\u001b[1;32m     85\u001b[0m         \u001b[0;31m# check if failed... and politely print relevant message\u001b[0m\u001b[0;34m\u001b[0m\u001b[0;34m\u001b[0m\u001b[0;34m\u001b[0m\u001b[0m\n\u001b[1;32m     86\u001b[0m         \u001b[0;32mif\u001b[0m \u001b[0mself\u001b[0m\u001b[0;34m.\u001b[0m\u001b[0mstatus\u001b[0m \u001b[0;34m==\u001b[0m \u001b[0;34m\"CANCELLED\"\u001b[0m\u001b[0;34m:\u001b[0m\u001b[0;34m\u001b[0m\u001b[0;34m\u001b[0m\u001b[0m\n\u001b[0;32m---> 87\u001b[0;31m             \u001b[0;32mraise\u001b[0m \u001b[0mH2OJobCancelled\u001b[0m\u001b[0;34m(\u001b[0m\u001b[0;34m\"Job<%s> was cancelled by the user.\"\u001b[0m \u001b[0;34m%\u001b[0m \u001b[0mself\u001b[0m\u001b[0;34m.\u001b[0m\u001b[0mjob_key\u001b[0m\u001b[0;34m)\u001b[0m\u001b[0;34m\u001b[0m\u001b[0;34m\u001b[0m\u001b[0m\n\u001b[0m\u001b[1;32m     88\u001b[0m         \u001b[0;32mif\u001b[0m \u001b[0mself\u001b[0m\u001b[0;34m.\u001b[0m\u001b[0mstatus\u001b[0m \u001b[0;34m==\u001b[0m \u001b[0;34m\"FAILED\"\u001b[0m\u001b[0;34m:\u001b[0m\u001b[0;34m\u001b[0m\u001b[0;34m\u001b[0m\u001b[0m\n\u001b[1;32m     89\u001b[0m             \u001b[0;32mif\u001b[0m \u001b[0;34m(\u001b[0m\u001b[0misinstance\u001b[0m\u001b[0;34m(\u001b[0m\u001b[0mself\u001b[0m\u001b[0;34m.\u001b[0m\u001b[0mjob\u001b[0m\u001b[0;34m,\u001b[0m \u001b[0mdict\u001b[0m\u001b[0;34m)\u001b[0m\u001b[0;34m)\u001b[0m \u001b[0;32mand\u001b[0m \u001b[0;34m(\u001b[0m\u001b[0;34m\"stacktrace\"\u001b[0m \u001b[0;32min\u001b[0m \u001b[0mlist\u001b[0m\u001b[0;34m(\u001b[0m\u001b[0mself\u001b[0m\u001b[0;34m.\u001b[0m\u001b[0mjob\u001b[0m\u001b[0;34m)\u001b[0m\u001b[0;34m)\u001b[0m\u001b[0;34m:\u001b[0m\u001b[0;34m\u001b[0m\u001b[0;34m\u001b[0m\u001b[0m\n",
            "\u001b[0;31mH2OJobCancelled\u001b[0m: Job<$03017f00000132d4ffffffff$_ae8fed2106f74e06a7b7fa31f1b04f6d> was cancelled by the user."
          ]
        }
      ],
      "execution_count": 25,
      "metadata": {
        "jupyter": {
          "source_hidden": false,
          "outputs_hidden": false
        },
        "nteract": {
          "transient": {
            "deleting": false
          }
        },
        "gather": {
          "logged": 1635055427061
        }
      }
    },
    {
      "cell_type": "code",
      "source": [
        "# View the AutoML Leaderboard\r\n",
        "\r\n",
        "lb = aml.leaderboard\r\n",
        "lb.head(rows=lb.nrows)  # Print all rows instead of default (10 rows)"
      ],
      "outputs": [],
      "execution_count": null,
      "metadata": {
        "jupyter": {
          "source_hidden": false,
          "outputs_hidden": false
        },
        "nteract": {
          "transient": {
            "deleting": false
          }
        },
        "gather": {
          "logged": 1635055516984
        }
      }
    },
    {
      "cell_type": "code",
      "source": [
        "# The leader model is stored here\r\n",
        "\r\n",
        "aml.leader"
      ],
      "outputs": [],
      "execution_count": null,
      "metadata": {
        "jupyter": {
          "source_hidden": false,
          "outputs_hidden": false
        },
        "nteract": {
          "transient": {
            "deleting": false
          }
        },
        "gather": {
          "logged": 1635055016539
        }
      }
    },
    {
      "cell_type": "code",
      "source": [
        "# To generate predictions on a test set, you can make predictions\r\n",
        "# directly on the `\"H2OAutoML\"` object or on the leader model\r\n",
        "# object directly\r\n",
        "#preds = aml.predict(test)\r\n",
        "# or\r\n",
        "preds = aml.leader.predict(test)"
      ],
      "outputs": [],
      "execution_count": null,
      "metadata": {
        "jupyter": {
          "source_hidden": false,
          "outputs_hidden": false
        },
        "nteract": {
          "transient": {
            "deleting": false
          }
        },
        "gather": {
          "logged": 1635055017248
        }
      }
    },
    {
      "cell_type": "code",
      "source": [
        "preds.head(5)"
      ],
      "outputs": [],
      "execution_count": null,
      "metadata": {
        "jupyter": {
          "source_hidden": false,
          "outputs_hidden": false
        },
        "nteract": {
          "transient": {
            "deleting": false
          }
        },
        "gather": {
          "logged": 1635055017804
        }
      }
    },
    {
      "cell_type": "code",
      "source": [
        "df = test.cbind(preds)\r\n",
        "df.head(5)\r\n",
        "# Slice cols by vector of names\r\n",
        "res = df[:, [\"predict\"]]\r\n",
        "res.head(5)\r\n",
        "#Rename column\r\n",
        "res.set_names(['Sales']) "
      ],
      "outputs": [],
      "execution_count": null,
      "metadata": {
        "jupyter": {
          "source_hidden": false,
          "outputs_hidden": false
        },
        "nteract": {
          "transient": {
            "deleting": false
          }
        },
        "gather": {
          "logged": 1635055018351
        }
      }
    },
    {
      "cell_type": "code",
      "source": [
        "# Export the file\r\n",
        "# There are two ways to save the leader model -- binary format and MOJO format. If you're taking your leader model to production, \r\n",
        "# then we'd suggest the MOJO format since it's optimized for production use.\r\n",
        "\r\n",
        "#h2o.export_file(res, path = \"C:\\\\Data_Science\\\\Competitions\\\\MachineHack-2021\\\\my_submission.csv\", force = True)\r\n",
        "\r\n",
        "# Convert to Pandas dataframe\r\n",
        "# Save as .CSV file\r\n",
        "#res_as_df = h2o.as_list(res, use_pandas=True)\r\n",
        "#res_as_df.to_csv('data/my_submission.csv', index=False)\r\n"
      ],
      "outputs": [],
      "execution_count": null,
      "metadata": {
        "jupyter": {
          "source_hidden": false,
          "outputs_hidden": false
        },
        "nteract": {
          "transient": {
            "deleting": false
          }
        },
        "gather": {
          "logged": 1635055018979
        }
      }
    },
    {
      "cell_type": "code",
      "source": [
        "from azureml.core import Workspace\r\n",
        "from azureml.data import OutputFileDatasetConfig\r\n",
        "\r\n",
        "ws = Workspace.from_config()\r\n",
        "\r\n",
        "def_blob_store = ws.get_default_datastore()\r\n",
        "output = OutputFileDatasetConfig(destination=(def_blob_store, 'sample/outputdataset'))\r\n",
        "\r\n",
        "res_as_df = h2o.as_list(res, use_pandas=True)\r\n",
        "res_as_df.to_csv('my_submission.csv', index=False)"
      ],
      "outputs": [],
      "execution_count": null,
      "metadata": {
        "jupyter": {
          "source_hidden": false,
          "outputs_hidden": false
        },
        "nteract": {
          "transient": {
            "deleting": false
          }
        },
        "gather": {
          "logged": 1635055020257
        }
      }
    },
    {
      "cell_type": "code",
      "source": [
        "h2o.save_model(aml.leader, path = \"h20_model_bin\")"
      ],
      "outputs": [],
      "execution_count": null,
      "metadata": {
        "jupyter": {
          "source_hidden": false,
          "outputs_hidden": false
        },
        "nteract": {
          "transient": {
            "deleting": false
          }
        },
        "gather": {
          "logged": 1635055020886
        }
      }
    },
    {
      "cell_type": "code",
      "source": [
        "# Get model ids for all models in the AutoML Leaderboard\r\n",
        "model_ids = list(aml.leaderboard['model_id'].as_data_frame().iloc[:,0])\r\n",
        "# Get the \"All Models\" Stacked Ensemble model\r\n",
        "se = h2o.get_model([mid for mid in model_ids if \"StackedEnsemble_AllModels\" in mid][0])\r\n",
        "# Get the Stacked Ensemble metalearner model\r\n",
        "metalearner = h2o.get_model(se.metalearner()['name'])"
      ],
      "outputs": [],
      "execution_count": null,
      "metadata": {
        "jupyter": {
          "source_hidden": false,
          "outputs_hidden": false
        },
        "nteract": {
          "transient": {
            "deleting": false
          }
        },
        "gather": {
          "logged": 1635055021415
        }
      }
    },
    {
      "cell_type": "code",
      "source": [
        "metalearner.coef_norm()"
      ],
      "outputs": [],
      "execution_count": null,
      "metadata": {
        "jupyter": {
          "source_hidden": false,
          "outputs_hidden": false
        },
        "nteract": {
          "transient": {
            "deleting": false
          }
        },
        "gather": {
          "logged": 1635055021916
        }
      }
    },
    {
      "cell_type": "code",
      "source": [
        "#We can also plot the base learner contributions to the ensemble.\r\n",
        "%matplotlib inline\r\n",
        "metalearner.std_coef_plot()"
      ],
      "outputs": [],
      "execution_count": null,
      "metadata": {
        "jupyter": {
          "source_hidden": false,
          "outputs_hidden": false
        },
        "nteract": {
          "transient": {
            "deleting": false
          }
        },
        "gather": {
          "logged": 1635055022412
        }
      }
    }
  ],
  "metadata": {
    "kernelspec": {
      "name": "python38-azureml",
      "language": "python",
      "display_name": "Python 3.8 - AzureML"
    },
    "language_info": {
      "name": "python",
      "version": "3.8.1",
      "mimetype": "text/x-python",
      "codemirror_mode": {
        "name": "ipython",
        "version": 3
      },
      "pygments_lexer": "ipython3",
      "nbconvert_exporter": "python",
      "file_extension": ".py"
    },
    "kernel_info": {
      "name": "python38-azureml"
    },
    "microsoft": {
      "host": {
        "AzureML": {
          "notebookHasBeenCompleted": true
        }
      }
    },
    "nteract": {
      "version": "nteract-front-end@1.0.0"
    }
  },
  "nbformat": 4,
  "nbformat_minor": 2
}