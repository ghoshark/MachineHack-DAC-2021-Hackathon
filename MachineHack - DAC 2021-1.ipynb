{
 "cells": [
  {
   "cell_type": "markdown",
   "metadata": {},
   "source": [
    "## H2O AutoML\n",
    "\n",
    "    https://docs.h2o.ai/h2o/latest-stable/h2o-docs/automl.html"
   ]
  },
  {
   "cell_type": "code",
   "execution_count": 2,
   "metadata": {},
   "outputs": [],
   "source": [
    "import pandas as pd\n",
    "import h2o\n",
    "from h2o.automl import H2OAutoML"
   ]
  },
  {
   "cell_type": "code",
   "execution_count": 3,
   "metadata": {},
   "outputs": [
    {
     "name": "stdout",
     "output_type": "stream",
     "text": [
      "Checking whether there is an H2O instance running at http://localhost:54321 . connected.\n"
     ]
    },
    {
     "data": {
      "text/html": [
       "<div style=\"overflow:auto\"><table style=\"width:50%\"><tr><td>H2O_cluster_uptime:</td>\n",
       "<td>44 mins 43 secs</td></tr>\n",
       "<tr><td>H2O_cluster_timezone:</td>\n",
       "<td>Asia/Kolkata</td></tr>\n",
       "<tr><td>H2O_data_parsing_timezone:</td>\n",
       "<td>UTC</td></tr>\n",
       "<tr><td>H2O_cluster_version:</td>\n",
       "<td>3.34.0.3</td></tr>\n",
       "<tr><td>H2O_cluster_version_age:</td>\n",
       "<td>16 days </td></tr>\n",
       "<tr><td>H2O_cluster_name:</td>\n",
       "<td>H2O_from_python_SESA475934_zkwyo9</td></tr>\n",
       "<tr><td>H2O_cluster_total_nodes:</td>\n",
       "<td>1</td></tr>\n",
       "<tr><td>H2O_cluster_free_memory:</td>\n",
       "<td>10.35 Gb</td></tr>\n",
       "<tr><td>H2O_cluster_total_cores:</td>\n",
       "<td>8</td></tr>\n",
       "<tr><td>H2O_cluster_allowed_cores:</td>\n",
       "<td>8</td></tr>\n",
       "<tr><td>H2O_cluster_status:</td>\n",
       "<td>locked, healthy</td></tr>\n",
       "<tr><td>H2O_connection_url:</td>\n",
       "<td>http://localhost:54321</td></tr>\n",
       "<tr><td>H2O_connection_proxy:</td>\n",
       "<td>{\"http\": null, \"https\": null}</td></tr>\n",
       "<tr><td>H2O_internal_security:</td>\n",
       "<td>False</td></tr>\n",
       "<tr><td>H2O_API_Extensions:</td>\n",
       "<td>Amazon S3, Algos, AutoML, Core V3, TargetEncoder, Core V4</td></tr>\n",
       "<tr><td>Python_version:</td>\n",
       "<td>3.8.3 final</td></tr></table></div>"
      ],
      "text/plain": [
       "--------------------------  ---------------------------------------------------------\n",
       "H2O_cluster_uptime:         44 mins 43 secs\n",
       "H2O_cluster_timezone:       Asia/Kolkata\n",
       "H2O_data_parsing_timezone:  UTC\n",
       "H2O_cluster_version:        3.34.0.3\n",
       "H2O_cluster_version_age:    16 days\n",
       "H2O_cluster_name:           H2O_from_python_SESA475934_zkwyo9\n",
       "H2O_cluster_total_nodes:    1\n",
       "H2O_cluster_free_memory:    10.35 Gb\n",
       "H2O_cluster_total_cores:    8\n",
       "H2O_cluster_allowed_cores:  8\n",
       "H2O_cluster_status:         locked, healthy\n",
       "H2O_connection_url:         http://localhost:54321\n",
       "H2O_connection_proxy:       {\"http\": null, \"https\": null}\n",
       "H2O_internal_security:      False\n",
       "H2O_API_Extensions:         Amazon S3, Algos, AutoML, Core V3, TargetEncoder, Core V4\n",
       "Python_version:             3.8.3 final\n",
       "--------------------------  ---------------------------------------------------------"
      ]
     },
     "metadata": {},
     "output_type": "display_data"
    }
   ],
   "source": [
    "h2o.init(\n",
    "    nthreads=-1,     # number of threads when launching a new H2O server\n",
    "    max_mem_size=12  # in gigabytes\n",
    ")"
   ]
  },
  {
   "cell_type": "code",
   "execution_count": 4,
   "metadata": {},
   "outputs": [],
   "source": [
    "#h2o.init()"
   ]
  },
  {
   "cell_type": "code",
   "execution_count": 50,
   "metadata": {},
   "outputs": [
    {
     "name": "stdout",
     "output_type": "stream",
     "text": [
      "Parse progress: |████████████████████████████████████████████████████████████████| (done) 100%\n",
      "Parse progress: |████████████████████████████████████████████████████████████████| (done) 100%\n"
     ]
    }
   ],
   "source": [
    "# Import a train/test set into H2O\n",
    "\n",
    "train = h2o.import_file(\"C:\\\\Data_Science\\\\Competitions\\\\MachineHack-2021\\\\train.csv\")\n",
    "test = h2o.import_file(\"C:\\\\Data_Science\\\\Competitions\\\\MachineHack-2021\\\\test.csv\")"
   ]
  },
  {
   "cell_type": "code",
   "execution_count": 51,
   "metadata": {},
   "outputs": [
    {
     "data": {
      "text/html": [
       "<table>\n",
       "<thead>\n",
       "<tr><th>Item_ID  </th><th style=\"text-align: right;\">  Item_W</th><th>Item_Type    </th><th style=\"text-align: right;\">  Item_MRP</th><th>Outlet_ID  </th><th style=\"text-align: right;\">  Outlet_Year</th><th>Outlet_Size  </th><th>Outlet_Location_Type  </th><th style=\"text-align: right;\">  Sales</th></tr>\n",
       "</thead>\n",
       "<tbody>\n",
       "<tr><td>FDU32    </td><td style=\"text-align: right;\"> 21.0275</td><td>Baking Goods </td><td style=\"text-align: right;\">   197.352</td><td>OUT046     </td><td style=\"text-align: right;\">         2004</td><td>Small        </td><td>Tier 2                </td><td style=\"text-align: right;\">2689.46</td></tr>\n",
       "<tr><td>NCT54    </td><td style=\"text-align: right;\"> 21.1024</td><td>Meat         </td><td style=\"text-align: right;\">   148.25 </td><td>OUT035     </td><td style=\"text-align: right;\">         1987</td><td>Small        </td><td>Tier 1                </td><td style=\"text-align: right;\">3437.35</td></tr>\n",
       "<tr><td>FDW08    </td><td style=\"text-align: right;\"> 20.8823</td><td>Hard Drinks  </td><td style=\"text-align: right;\">   205.465</td><td>OUT035     </td><td style=\"text-align: right;\">         1999</td><td>Small        </td><td>Tier 3                </td><td style=\"text-align: right;\">3129.97</td></tr>\n",
       "<tr><td>FDJ22    </td><td style=\"text-align: right;\"> 21.0504</td><td>Starchy Foods</td><td style=\"text-align: right;\">   253.418</td><td>OUT046     </td><td style=\"text-align: right;\">         1996</td><td>Small        </td><td>Tier 1                </td><td style=\"text-align: right;\">1306.51</td></tr>\n",
       "<tr><td>FDF47    </td><td style=\"text-align: right;\"> 21.2479</td><td>Baking Goods </td><td style=\"text-align: right;\">   240.871</td><td>OUT035     </td><td style=\"text-align: right;\">         1988</td><td>Small        </td><td>Tier 3                </td><td style=\"text-align: right;\">1739.77</td></tr>\n",
       "</tbody>\n",
       "</table>"
      ]
     },
     "metadata": {},
     "output_type": "display_data"
    },
    {
     "data": {
      "text/plain": []
     },
     "execution_count": 51,
     "metadata": {},
     "output_type": "execute_result"
    }
   ],
   "source": [
    "train.head(5)"
   ]
  },
  {
   "cell_type": "code",
   "execution_count": 52,
   "metadata": {},
   "outputs": [
    {
     "data": {
      "text/html": [
       "<table>\n",
       "<thead>\n",
       "<tr><th>Item_ID  </th><th style=\"text-align: right;\">  Item_W</th><th>Item_Type         </th><th style=\"text-align: right;\">  Item_MRP</th><th>Outlet_ID  </th><th style=\"text-align: right;\">  Outlet_Year</th><th>Outlet_Size  </th><th>Outlet_Location_Type  </th></tr>\n",
       "</thead>\n",
       "<tbody>\n",
       "<tr><td>DRM23    </td><td style=\"text-align: right;\"> 10.1567</td><td>Snack Foods       </td><td style=\"text-align: right;\">   119.319</td><td>OUT013     </td><td style=\"text-align: right;\">         1999</td><td>High         </td><td>Tier 3                </td></tr>\n",
       "<tr><td>FDG47    </td><td style=\"text-align: right;\"> 10.4344</td><td>Household         </td><td style=\"text-align: right;\">   263.6  </td><td>OUT018     </td><td style=\"text-align: right;\">         1987</td><td>High         </td><td>Tier 3                </td></tr>\n",
       "<tr><td>FDN21    </td><td style=\"text-align: right;\"> 11.9536</td><td>Health and Hygiene</td><td style=\"text-align: right;\">   246.287</td><td>OUT018     </td><td style=\"text-align: right;\">         1997</td><td>High         </td><td>Tier 1                </td></tr>\n",
       "<tr><td>FDZ23    </td><td style=\"text-align: right;\"> 14.9485</td><td>Dairy             </td><td style=\"text-align: right;\">   136.201</td><td>OUT046     </td><td style=\"text-align: right;\">         2004</td><td>Medium       </td><td>Tier 2                </td></tr>\n",
       "<tr><td>FDC16    </td><td style=\"text-align: right;\"> 11.08  </td><td>Canned            </td><td style=\"text-align: right;\">   173.146</td><td>OUT018     </td><td style=\"text-align: right;\">         2009</td><td>Medium       </td><td>Tier 3                </td></tr>\n",
       "</tbody>\n",
       "</table>"
      ]
     },
     "metadata": {},
     "output_type": "display_data"
    },
    {
     "data": {
      "text/plain": []
     },
     "execution_count": 52,
     "metadata": {},
     "output_type": "execute_result"
    }
   ],
   "source": [
    "test.head(5)"
   ]
  },
  {
   "cell_type": "code",
   "execution_count": 53,
   "metadata": {},
   "outputs": [],
   "source": [
    "#Convert H2O frame to pandas dataframe(This is done so that data operations can be easily done)\n",
    "\n",
    "train_as_df = h2o.as_list(train, use_pandas=True)\n",
    "test_as_df = h2o.as_list(test, use_pandas=True)"
   ]
  },
  {
   "cell_type": "code",
   "execution_count": 54,
   "metadata": {},
   "outputs": [],
   "source": [
    "#Drop the ID columns\n",
    "\n",
    "#train_as_df=train_as_df.drop(['Item_ID','Outlet_ID'], axis = 1)\n",
    "#test_as_df=test_as_df.drop(['Item_ID','Outlet_ID'], axis = 1)\n",
    "\n",
    "# Dropping the outlet id column\n",
    "#train_as_df=train_as_df.drop(['Item_ID'], axis = 1)\n",
    "#test_as_df=test_as_df.drop(['Item_ID'], axis = 1)"
   ]
  },
  {
   "cell_type": "code",
   "execution_count": 55,
   "metadata": {},
   "outputs": [],
   "source": [
    "#Derive the outlet age column\n",
    "\n",
    "train_as_df['Outlet_Age'] = 2021 - train_as_df['Outlet_Year']\n",
    "train_as_df=train_as_df.drop(['Outlet_Year'], axis = 1)\n",
    "\n",
    "test_as_df['Outlet_Age'] = 2021 - test_as_df['Outlet_Year']\n",
    "test_as_df=test_as_df.drop(['Outlet_Year'], axis = 1)"
   ]
  },
  {
   "cell_type": "code",
   "execution_count": 56,
   "metadata": {},
   "outputs": [
    {
     "data": {
      "text/plain": [
       "Outlet_Age              0.0\n",
       "Sales                   0.0\n",
       "Outlet_Location_Type    0.0\n",
       "Outlet_Size             0.0\n",
       "Outlet_ID               0.0\n",
       "Item_MRP                0.0\n",
       "Item_Type               0.0\n",
       "Item_W                  0.0\n",
       "Item_ID                 0.0\n",
       "dtype: float64"
      ]
     },
     "execution_count": 56,
     "metadata": {},
     "output_type": "execute_result"
    }
   ],
   "source": [
    "#Check for any missing values - train\n",
    "\n",
    "round((train_as_df.isnull().sum() * 100/ len(train_as_df)),2).sort_values(ascending=False)"
   ]
  },
  {
   "cell_type": "code",
   "execution_count": 57,
   "metadata": {},
   "outputs": [
    {
     "data": {
      "text/plain": [
       "Outlet_Age              0.0\n",
       "Outlet_Location_Type    0.0\n",
       "Outlet_Size             0.0\n",
       "Outlet_ID               0.0\n",
       "Item_MRP                0.0\n",
       "Item_Type               0.0\n",
       "Item_W                  0.0\n",
       "Item_ID                 0.0\n",
       "dtype: float64"
      ]
     },
     "execution_count": 57,
     "metadata": {},
     "output_type": "execute_result"
    }
   ],
   "source": [
    "#Check for any missing values - test\n",
    "\n",
    "round((test_as_df.isnull().sum() * 100/ len(test_as_df)),2).sort_values(ascending=False)"
   ]
  },
  {
   "cell_type": "code",
   "execution_count": 58,
   "metadata": {},
   "outputs": [],
   "source": [
    "# Break the item id into 2 columns item code and item number\n",
    "\n",
    "train_as_df['Item_Code'] = [x[:3] for x in train_as_df['Item_ID']]\n",
    "train_as_df['Item_Number'] = train_as_df['Item_ID'].str[-2:]\n",
    "train_as_df = train_as_df.drop(['Item_ID'], axis = 1)\n",
    "\n",
    "test_as_df['Item_Code'] = [x[:3] for x in test_as_df['Item_ID']]\n",
    "test_as_df['Item_Number'] = test_as_df['Item_ID'].str[-2:]\n",
    "test_as_df = test_as_df.drop(['Item_ID'], axis = 1)\n",
    "\n",
    "train_as_df[[\"Item_Number\"]] = train_as_df[[\"Item_Number\"]].apply(pd.to_numeric)\n",
    "test_as_df[[\"Item_Number\"]] = test_as_df[[\"Item_Number\"]].apply(pd.to_numeric)"
   ]
  },
  {
   "cell_type": "code",
   "execution_count": 59,
   "metadata": {},
   "outputs": [],
   "source": [
    "# One HOT Encoding\n",
    "\n",
    "def encode_and_bind(original_dataframe, feature_to_encode):\n",
    "    dummies = pd.get_dummies(original_dataframe[[feature_to_encode]])\n",
    "    original_dataframe = pd.concat([original_dataframe, dummies], axis=1)\n",
    "    original_dataframe=original_dataframe.drop([feature_to_encode], axis = 1)\n",
    "    return(original_dataframe)"
   ]
  },
  {
   "cell_type": "code",
   "execution_count": 60,
   "metadata": {},
   "outputs": [],
   "source": [
    "train_as_df = encode_and_bind(train_as_df, 'Item_Type')\n",
    "train_as_df = encode_and_bind(train_as_df, 'Outlet_Size')\n",
    "train_as_df = encode_and_bind(train_as_df, 'Outlet_Location_Type')\n",
    "train_as_df = encode_and_bind(train_as_df, 'Outlet_ID')\n",
    "train_as_df = encode_and_bind(train_as_df, 'Item_Code')"
   ]
  },
  {
   "cell_type": "code",
   "execution_count": 61,
   "metadata": {},
   "outputs": [
    {
     "data": {
      "text/html": [
       "<div>\n",
       "<style scoped>\n",
       "    .dataframe tbody tr th:only-of-type {\n",
       "        vertical-align: middle;\n",
       "    }\n",
       "\n",
       "    .dataframe tbody tr th {\n",
       "        vertical-align: top;\n",
       "    }\n",
       "\n",
       "    .dataframe thead th {\n",
       "        text-align: right;\n",
       "    }\n",
       "</style>\n",
       "<table border=\"1\" class=\"dataframe\">\n",
       "  <thead>\n",
       "    <tr style=\"text-align: right;\">\n",
       "      <th></th>\n",
       "      <th>Item_W</th>\n",
       "      <th>Item_MRP</th>\n",
       "      <th>Sales</th>\n",
       "      <th>Outlet_Age</th>\n",
       "      <th>Item_Number</th>\n",
       "      <th>Item_Type_Baking Goods</th>\n",
       "      <th>Item_Type_Breads</th>\n",
       "      <th>Item_Type_Breakfast</th>\n",
       "      <th>Item_Type_Canned</th>\n",
       "      <th>Item_Type_Dairy</th>\n",
       "      <th>...</th>\n",
       "      <th>Item_Code_NCQ</th>\n",
       "      <th>Item_Code_NCR</th>\n",
       "      <th>Item_Code_NCS</th>\n",
       "      <th>Item_Code_NCT</th>\n",
       "      <th>Item_Code_NCU</th>\n",
       "      <th>Item_Code_NCV</th>\n",
       "      <th>Item_Code_NCW</th>\n",
       "      <th>Item_Code_NCX</th>\n",
       "      <th>Item_Code_NCY</th>\n",
       "      <th>Item_Code_NCZ</th>\n",
       "    </tr>\n",
       "  </thead>\n",
       "  <tbody>\n",
       "    <tr>\n",
       "      <th>0</th>\n",
       "      <td>21.027499</td>\n",
       "      <td>197.352319</td>\n",
       "      <td>2689.457781</td>\n",
       "      <td>17</td>\n",
       "      <td>32</td>\n",
       "      <td>1</td>\n",
       "      <td>0</td>\n",
       "      <td>0</td>\n",
       "      <td>0</td>\n",
       "      <td>0</td>\n",
       "      <td>...</td>\n",
       "      <td>0</td>\n",
       "      <td>0</td>\n",
       "      <td>0</td>\n",
       "      <td>0</td>\n",
       "      <td>0</td>\n",
       "      <td>0</td>\n",
       "      <td>0</td>\n",
       "      <td>0</td>\n",
       "      <td>0</td>\n",
       "      <td>0</td>\n",
       "    </tr>\n",
       "    <tr>\n",
       "      <th>1</th>\n",
       "      <td>21.102371</td>\n",
       "      <td>148.250214</td>\n",
       "      <td>3437.350375</td>\n",
       "      <td>34</td>\n",
       "      <td>54</td>\n",
       "      <td>0</td>\n",
       "      <td>0</td>\n",
       "      <td>0</td>\n",
       "      <td>0</td>\n",
       "      <td>0</td>\n",
       "      <td>...</td>\n",
       "      <td>0</td>\n",
       "      <td>0</td>\n",
       "      <td>0</td>\n",
       "      <td>1</td>\n",
       "      <td>0</td>\n",
       "      <td>0</td>\n",
       "      <td>0</td>\n",
       "      <td>0</td>\n",
       "      <td>0</td>\n",
       "      <td>0</td>\n",
       "    </tr>\n",
       "    <tr>\n",
       "      <th>2</th>\n",
       "      <td>20.882263</td>\n",
       "      <td>205.465010</td>\n",
       "      <td>3129.967268</td>\n",
       "      <td>22</td>\n",
       "      <td>8</td>\n",
       "      <td>0</td>\n",
       "      <td>0</td>\n",
       "      <td>0</td>\n",
       "      <td>0</td>\n",
       "      <td>0</td>\n",
       "      <td>...</td>\n",
       "      <td>0</td>\n",
       "      <td>0</td>\n",
       "      <td>0</td>\n",
       "      <td>0</td>\n",
       "      <td>0</td>\n",
       "      <td>0</td>\n",
       "      <td>0</td>\n",
       "      <td>0</td>\n",
       "      <td>0</td>\n",
       "      <td>0</td>\n",
       "    </tr>\n",
       "    <tr>\n",
       "      <th>3</th>\n",
       "      <td>21.050435</td>\n",
       "      <td>253.417583</td>\n",
       "      <td>1306.514376</td>\n",
       "      <td>25</td>\n",
       "      <td>22</td>\n",
       "      <td>0</td>\n",
       "      <td>0</td>\n",
       "      <td>0</td>\n",
       "      <td>0</td>\n",
       "      <td>0</td>\n",
       "      <td>...</td>\n",
       "      <td>0</td>\n",
       "      <td>0</td>\n",
       "      <td>0</td>\n",
       "      <td>0</td>\n",
       "      <td>0</td>\n",
       "      <td>0</td>\n",
       "      <td>0</td>\n",
       "      <td>0</td>\n",
       "      <td>0</td>\n",
       "      <td>0</td>\n",
       "    </tr>\n",
       "    <tr>\n",
       "      <th>4</th>\n",
       "      <td>21.247876</td>\n",
       "      <td>240.871039</td>\n",
       "      <td>1739.769829</td>\n",
       "      <td>33</td>\n",
       "      <td>47</td>\n",
       "      <td>1</td>\n",
       "      <td>0</td>\n",
       "      <td>0</td>\n",
       "      <td>0</td>\n",
       "      <td>0</td>\n",
       "      <td>...</td>\n",
       "      <td>0</td>\n",
       "      <td>0</td>\n",
       "      <td>0</td>\n",
       "      <td>0</td>\n",
       "      <td>0</td>\n",
       "      <td>0</td>\n",
       "      <td>0</td>\n",
       "      <td>0</td>\n",
       "      <td>0</td>\n",
       "      <td>0</td>\n",
       "    </tr>\n",
       "  </tbody>\n",
       "</table>\n",
       "<p>5 rows × 102 columns</p>\n",
       "</div>"
      ],
      "text/plain": [
       "      Item_W    Item_MRP        Sales  Outlet_Age  Item_Number  \\\n",
       "0  21.027499  197.352319  2689.457781          17           32   \n",
       "1  21.102371  148.250214  3437.350375          34           54   \n",
       "2  20.882263  205.465010  3129.967268          22            8   \n",
       "3  21.050435  253.417583  1306.514376          25           22   \n",
       "4  21.247876  240.871039  1739.769829          33           47   \n",
       "\n",
       "   Item_Type_Baking Goods  Item_Type_Breads  Item_Type_Breakfast  \\\n",
       "0                       1                 0                    0   \n",
       "1                       0                 0                    0   \n",
       "2                       0                 0                    0   \n",
       "3                       0                 0                    0   \n",
       "4                       1                 0                    0   \n",
       "\n",
       "   Item_Type_Canned  Item_Type_Dairy  ...  Item_Code_NCQ  Item_Code_NCR  \\\n",
       "0                 0                0  ...              0              0   \n",
       "1                 0                0  ...              0              0   \n",
       "2                 0                0  ...              0              0   \n",
       "3                 0                0  ...              0              0   \n",
       "4                 0                0  ...              0              0   \n",
       "\n",
       "   Item_Code_NCS  Item_Code_NCT  Item_Code_NCU  Item_Code_NCV  Item_Code_NCW  \\\n",
       "0              0              0              0              0              0   \n",
       "1              0              1              0              0              0   \n",
       "2              0              0              0              0              0   \n",
       "3              0              0              0              0              0   \n",
       "4              0              0              0              0              0   \n",
       "\n",
       "   Item_Code_NCX  Item_Code_NCY  Item_Code_NCZ  \n",
       "0              0              0              0  \n",
       "1              0              0              0  \n",
       "2              0              0              0  \n",
       "3              0              0              0  \n",
       "4              0              0              0  \n",
       "\n",
       "[5 rows x 102 columns]"
      ]
     },
     "execution_count": 61,
     "metadata": {},
     "output_type": "execute_result"
    }
   ],
   "source": [
    "train_as_df.head(5)"
   ]
  },
  {
   "cell_type": "code",
   "execution_count": 62,
   "metadata": {},
   "outputs": [],
   "source": [
    "test_as_df = encode_and_bind(test_as_df, 'Item_Type')\n",
    "test_as_df = encode_and_bind(test_as_df, 'Outlet_Size')\n",
    "test_as_df = encode_and_bind(test_as_df, 'Outlet_Location_Type')\n",
    "test_as_df = encode_and_bind(test_as_df, 'Outlet_ID')\n",
    "test_as_df = encode_and_bind(test_as_df, 'Item_Code')"
   ]
  },
  {
   "cell_type": "code",
   "execution_count": 63,
   "metadata": {},
   "outputs": [
    {
     "data": {
      "text/html": [
       "<div>\n",
       "<style scoped>\n",
       "    .dataframe tbody tr th:only-of-type {\n",
       "        vertical-align: middle;\n",
       "    }\n",
       "\n",
       "    .dataframe tbody tr th {\n",
       "        vertical-align: top;\n",
       "    }\n",
       "\n",
       "    .dataframe thead th {\n",
       "        text-align: right;\n",
       "    }\n",
       "</style>\n",
       "<table border=\"1\" class=\"dataframe\">\n",
       "  <thead>\n",
       "    <tr style=\"text-align: right;\">\n",
       "      <th></th>\n",
       "      <th>Item_W</th>\n",
       "      <th>Item_MRP</th>\n",
       "      <th>Outlet_Age</th>\n",
       "      <th>Item_Number</th>\n",
       "      <th>Item_Type_Baking Goods</th>\n",
       "      <th>Item_Type_Breads</th>\n",
       "      <th>Item_Type_Breakfast</th>\n",
       "      <th>Item_Type_Canned</th>\n",
       "      <th>Item_Type_Dairy</th>\n",
       "      <th>Item_Type_Frozen Foods</th>\n",
       "      <th>...</th>\n",
       "      <th>Item_Code_NCQ</th>\n",
       "      <th>Item_Code_NCR</th>\n",
       "      <th>Item_Code_NCS</th>\n",
       "      <th>Item_Code_NCT</th>\n",
       "      <th>Item_Code_NCU</th>\n",
       "      <th>Item_Code_NCV</th>\n",
       "      <th>Item_Code_NCW</th>\n",
       "      <th>Item_Code_NCX</th>\n",
       "      <th>Item_Code_NCY</th>\n",
       "      <th>Item_Code_NCZ</th>\n",
       "    </tr>\n",
       "  </thead>\n",
       "  <tbody>\n",
       "    <tr>\n",
       "      <th>0</th>\n",
       "      <td>10.156725</td>\n",
       "      <td>119.319482</td>\n",
       "      <td>22</td>\n",
       "      <td>23</td>\n",
       "      <td>0</td>\n",
       "      <td>0</td>\n",
       "      <td>0</td>\n",
       "      <td>0</td>\n",
       "      <td>0</td>\n",
       "      <td>0</td>\n",
       "      <td>...</td>\n",
       "      <td>0</td>\n",
       "      <td>0</td>\n",
       "      <td>0</td>\n",
       "      <td>0</td>\n",
       "      <td>0</td>\n",
       "      <td>0</td>\n",
       "      <td>0</td>\n",
       "      <td>0</td>\n",
       "      <td>0</td>\n",
       "      <td>0</td>\n",
       "    </tr>\n",
       "    <tr>\n",
       "      <th>1</th>\n",
       "      <td>10.434425</td>\n",
       "      <td>263.600449</td>\n",
       "      <td>34</td>\n",
       "      <td>47</td>\n",
       "      <td>0</td>\n",
       "      <td>0</td>\n",
       "      <td>0</td>\n",
       "      <td>0</td>\n",
       "      <td>0</td>\n",
       "      <td>0</td>\n",
       "      <td>...</td>\n",
       "      <td>0</td>\n",
       "      <td>0</td>\n",
       "      <td>0</td>\n",
       "      <td>0</td>\n",
       "      <td>0</td>\n",
       "      <td>0</td>\n",
       "      <td>0</td>\n",
       "      <td>0</td>\n",
       "      <td>0</td>\n",
       "      <td>0</td>\n",
       "    </tr>\n",
       "    <tr>\n",
       "      <th>2</th>\n",
       "      <td>11.953589</td>\n",
       "      <td>246.286990</td>\n",
       "      <td>24</td>\n",
       "      <td>21</td>\n",
       "      <td>0</td>\n",
       "      <td>0</td>\n",
       "      <td>0</td>\n",
       "      <td>0</td>\n",
       "      <td>0</td>\n",
       "      <td>0</td>\n",
       "      <td>...</td>\n",
       "      <td>0</td>\n",
       "      <td>0</td>\n",
       "      <td>0</td>\n",
       "      <td>0</td>\n",
       "      <td>0</td>\n",
       "      <td>0</td>\n",
       "      <td>0</td>\n",
       "      <td>0</td>\n",
       "      <td>0</td>\n",
       "      <td>0</td>\n",
       "    </tr>\n",
       "    <tr>\n",
       "      <th>3</th>\n",
       "      <td>14.948546</td>\n",
       "      <td>136.200508</td>\n",
       "      <td>17</td>\n",
       "      <td>23</td>\n",
       "      <td>0</td>\n",
       "      <td>0</td>\n",
       "      <td>0</td>\n",
       "      <td>0</td>\n",
       "      <td>1</td>\n",
       "      <td>0</td>\n",
       "      <td>...</td>\n",
       "      <td>0</td>\n",
       "      <td>0</td>\n",
       "      <td>0</td>\n",
       "      <td>0</td>\n",
       "      <td>0</td>\n",
       "      <td>0</td>\n",
       "      <td>0</td>\n",
       "      <td>0</td>\n",
       "      <td>0</td>\n",
       "      <td>0</td>\n",
       "    </tr>\n",
       "    <tr>\n",
       "      <th>4</th>\n",
       "      <td>11.080042</td>\n",
       "      <td>173.145664</td>\n",
       "      <td>12</td>\n",
       "      <td>16</td>\n",
       "      <td>0</td>\n",
       "      <td>0</td>\n",
       "      <td>0</td>\n",
       "      <td>1</td>\n",
       "      <td>0</td>\n",
       "      <td>0</td>\n",
       "      <td>...</td>\n",
       "      <td>0</td>\n",
       "      <td>0</td>\n",
       "      <td>0</td>\n",
       "      <td>0</td>\n",
       "      <td>0</td>\n",
       "      <td>0</td>\n",
       "      <td>0</td>\n",
       "      <td>0</td>\n",
       "      <td>0</td>\n",
       "      <td>0</td>\n",
       "    </tr>\n",
       "  </tbody>\n",
       "</table>\n",
       "<p>5 rows × 101 columns</p>\n",
       "</div>"
      ],
      "text/plain": [
       "      Item_W    Item_MRP  Outlet_Age  Item_Number  Item_Type_Baking Goods  \\\n",
       "0  10.156725  119.319482          22           23                       0   \n",
       "1  10.434425  263.600449          34           47                       0   \n",
       "2  11.953589  246.286990          24           21                       0   \n",
       "3  14.948546  136.200508          17           23                       0   \n",
       "4  11.080042  173.145664          12           16                       0   \n",
       "\n",
       "   Item_Type_Breads  Item_Type_Breakfast  Item_Type_Canned  Item_Type_Dairy  \\\n",
       "0                 0                    0                 0                0   \n",
       "1                 0                    0                 0                0   \n",
       "2                 0                    0                 0                0   \n",
       "3                 0                    0                 0                1   \n",
       "4                 0                    0                 1                0   \n",
       "\n",
       "   Item_Type_Frozen Foods  ...  Item_Code_NCQ  Item_Code_NCR  Item_Code_NCS  \\\n",
       "0                       0  ...              0              0              0   \n",
       "1                       0  ...              0              0              0   \n",
       "2                       0  ...              0              0              0   \n",
       "3                       0  ...              0              0              0   \n",
       "4                       0  ...              0              0              0   \n",
       "\n",
       "   Item_Code_NCT  Item_Code_NCU  Item_Code_NCV  Item_Code_NCW  Item_Code_NCX  \\\n",
       "0              0              0              0              0              0   \n",
       "1              0              0              0              0              0   \n",
       "2              0              0              0              0              0   \n",
       "3              0              0              0              0              0   \n",
       "4              0              0              0              0              0   \n",
       "\n",
       "   Item_Code_NCY  Item_Code_NCZ  \n",
       "0              0              0  \n",
       "1              0              0  \n",
       "2              0              0  \n",
       "3              0              0  \n",
       "4              0              0  \n",
       "\n",
       "[5 rows x 101 columns]"
      ]
     },
     "execution_count": 63,
     "metadata": {},
     "output_type": "execute_result"
    }
   ],
   "source": [
    "test_as_df.head(5)"
   ]
  },
  {
   "cell_type": "code",
   "execution_count": 64,
   "metadata": {},
   "outputs": [
    {
     "name": "stdout",
     "output_type": "stream",
     "text": [
      "Parse progress: |████████████████████████████████████████████████████████████████| (done) 100%\n",
      "Parse progress: |████████████████████████████████████████████████████████████████| (done) 100%\n"
     ]
    }
   ],
   "source": [
    "#Convert pandas dataframe back to H2O frame\n",
    "train = h2o.H2OFrame(train_as_df)\n",
    "test = h2o.H2OFrame(test_as_df) "
   ]
  },
  {
   "cell_type": "code",
   "execution_count": 65,
   "metadata": {},
   "outputs": [],
   "source": [
    "# Identify predictors and response\n",
    "x = train.columns\n",
    "y = \"Sales\"\n",
    "x.remove(y)"
   ]
  },
  {
   "cell_type": "code",
   "execution_count": null,
   "metadata": {},
   "outputs": [
    {
     "name": "stdout",
     "output_type": "stream",
     "text": [
      "AutoML progress: |█\n",
      "19:17:03.458: AutoML: XGBoost is not available; skipping it.\n",
      "19:17:03.458: Step 'best_of_family_xgboost' not defined in provider 'StackedEnsemble': skipping it.\n",
      "19:17:03.458: Step 'all_xgboost' not defined in provider 'StackedEnsemble': skipping it.\n",
      "\n",
      "████████████"
     ]
    }
   ],
   "source": [
    "# Run AutoML for 10 base models (limited to 1 hour max runtime by default)\n",
    "\n",
    "aml = H2OAutoML(max_models=20, seed=1)\n",
    "aml.train(x=x, y=y, training_frame=train)"
   ]
  },
  {
   "cell_type": "code",
   "execution_count": null,
   "metadata": {},
   "outputs": [],
   "source": [
    "# View the AutoML Leaderboard\n",
    "\n",
    "lb = aml.leaderboard\n",
    "lb.head(rows=lb.nrows)  # Print all rows instead of default (10 rows)"
   ]
  },
  {
   "cell_type": "code",
   "execution_count": null,
   "metadata": {},
   "outputs": [],
   "source": [
    "# The leader model is stored here\n",
    "\n",
    "aml.leader"
   ]
  },
  {
   "cell_type": "code",
   "execution_count": null,
   "metadata": {},
   "outputs": [],
   "source": [
    "# To generate predictions on a test set, you can make predictions\n",
    "# directly on the `\"H2OAutoML\"` object or on the leader model\n",
    "# object directly\n",
    "#preds = aml.predict(test)\n",
    "# or\n",
    "preds = aml.leader.predict(test)"
   ]
  },
  {
   "cell_type": "code",
   "execution_count": null,
   "metadata": {},
   "outputs": [],
   "source": [
    "preds.head(5)"
   ]
  },
  {
   "cell_type": "code",
   "execution_count": null,
   "metadata": {},
   "outputs": [],
   "source": [
    "df = test.cbind(preds)\n",
    "df.head(5)"
   ]
  },
  {
   "cell_type": "code",
   "execution_count": null,
   "metadata": {},
   "outputs": [],
   "source": [
    "# Slice cols by vector of names\n",
    "res = df[:, [\"predict\"]]\n",
    "res.head(5)"
   ]
  },
  {
   "cell_type": "code",
   "execution_count": null,
   "metadata": {},
   "outputs": [],
   "source": [
    "#Rename column\n",
    "res.set_names(['Sales']) "
   ]
  },
  {
   "cell_type": "markdown",
   "metadata": {},
   "source": [
    "#### Save results"
   ]
  },
  {
   "cell_type": "code",
   "execution_count": null,
   "metadata": {},
   "outputs": [],
   "source": [
    "# Export the file\n",
    "# There are two ways to save the leader model -- binary format and MOJO format. If you're taking your leader model to production, \n",
    "# then we'd suggest the MOJO format since it's optimized for production use.\n",
    "\n",
    "#h2o.export_file(res, path = \"C:\\\\Data_Science\\\\Competitions\\\\MachineHack-2021\\\\my_submission.csv\", force = True)\n",
    "\n",
    "# Convert to Pandas dataframe\n",
    "# Save as .CSV file\n",
    "res_as_df = h2o.as_list(res, use_pandas=True)\n",
    "res_as_df.to_csv('C:\\\\Data_Science\\\\Competitions\\\\MachineHack-2021\\\\my_submission.csv', index=False)"
   ]
  },
  {
   "cell_type": "code",
   "execution_count": null,
   "metadata": {},
   "outputs": [],
   "source": [
    "h2o.save_model(aml.leader, path = \"C:\\\\Data_Science\\\\Competitions\\\\MachineHack-2021\\\\h20_model_bin\")"
   ]
  },
  {
   "cell_type": "code",
   "execution_count": null,
   "metadata": {},
   "outputs": [],
   "source": [
    "aml.leader.download_mojo(path = \"C:\\\\Data_Science\\\\Competitions\\\\MachineHack-2021\")"
   ]
  },
  {
   "cell_type": "markdown",
   "metadata": {},
   "source": [
    "#### Ensemble Exploration\n",
    "\n",
    "    To understand how the ensemble works, let's take a peek inside the Stacked Ensemble \"All Models\" model. The \"All Models\" ensemble is an ensemble of all of the individual models in the AutoML run. This is often the top performing model on the leaderboard."
   ]
  },
  {
   "cell_type": "code",
   "execution_count": null,
   "metadata": {},
   "outputs": [],
   "source": [
    "# Get model ids for all models in the AutoML Leaderboard\n",
    "model_ids = list(aml.leaderboard['model_id'].as_data_frame().iloc[:,0])\n",
    "# Get the \"All Models\" Stacked Ensemble model\n",
    "se = h2o.get_model([mid for mid in model_ids if \"StackedEnsemble_AllModels\" in mid][0])\n",
    "# Get the Stacked Ensemble metalearner model\n",
    "metalearner = h2o.get_model(se.metalearner()['name'])"
   ]
  },
  {
   "cell_type": "markdown",
   "metadata": {},
   "source": [
    "Examine the variable importance of the metalearner (combiner) algorithm in the ensemble. This shows us how much each base learner is contributing to the ensemble. The AutoML Stacked Ensembles use the default metalearner algorithm (GLM with non-negative weights), so the variable importance of the metalearner is actually the standardized coefficient magnitudes of the GLM."
   ]
  },
  {
   "cell_type": "code",
   "execution_count": null,
   "metadata": {},
   "outputs": [],
   "source": [
    "metalearner.coef_norm()"
   ]
  },
  {
   "cell_type": "code",
   "execution_count": null,
   "metadata": {},
   "outputs": [],
   "source": [
    "#We can also plot the base learner contributions to the ensemble.\n",
    "%matplotlib inline\n",
    "metalearner.std_coef_plot()"
   ]
  },
  {
   "cell_type": "markdown",
   "metadata": {},
   "source": [
    "#### XGBoost Regressor"
   ]
  },
  {
   "cell_type": "code",
   "execution_count": null,
   "metadata": {},
   "outputs": [],
   "source": [
    "import xgboost\n",
    "from math import sqrt\n",
    "from sklearn.metrics import mean_squared_error\n",
    "import statsmodels.api as sm\n",
    "from sklearn import metrics\n",
    "from sklearn.model_selection import GridSearchCV"
   ]
  },
  {
   "cell_type": "code",
   "execution_count": null,
   "metadata": {},
   "outputs": [],
   "source": [
    "X_train = train_as_df[train_as_df.columns.difference(['Sales'])]\n",
    "y_train = train_as_df[['Sales']] "
   ]
  },
  {
   "cell_type": "code",
   "execution_count": null,
   "metadata": {},
   "outputs": [],
   "source": [
    "# Hypertune XGBoost\n",
    "# To improve, reduce max depth to 3, increase estimators to 1600 = 89.13%\n",
    "\n",
    "model = xgboost.XGBRegressor()\n",
    "parameters = {'nthread':[4],\n",
    "              'objective':['reg:squarederror'],\n",
    "              'learning_rate': [0.01], \n",
    "              'max_depth': [5],\n",
    "              'min_child_weight': [3],\n",
    "              'subsample': [1],\n",
    "              'colsample_bytree': [1], \n",
    "              'booster' : ['gbtree'],\n",
    "              'n_estimators': [1500]} \n",
    "\n",
    "model = GridSearchCV(model,\n",
    "                        parameters,\n",
    "                        cv = 2,\n",
    "                        n_jobs = 5,\n",
    "                        verbose=False) \n",
    "model.fit(X_train, y_train)"
   ]
  },
  {
   "cell_type": "code",
   "execution_count": null,
   "metadata": {},
   "outputs": [],
   "source": [
    "# Predict training data using model\n",
    "\n",
    "y_pred=model.predict(X_train)\n",
    "print(y_pred) \n",
    "\n",
    "mse = mean_squared_error(y_train, y_pred)\n",
    "rmse = sqrt(mse)\n",
    "print(rmse)"
   ]
  },
  {
   "cell_type": "code",
   "execution_count": null,
   "metadata": {},
   "outputs": [],
   "source": [
    "# Predict test data using model\n",
    "\n",
    "y_pred=model.predict(test_as_df)\n",
    "print(y_pred) "
   ]
  },
  {
   "cell_type": "code",
   "execution_count": null,
   "metadata": {},
   "outputs": [],
   "source": [
    "# Create a dataframe with predicted values\n",
    "# Give the column name as 'Sales'\n",
    "\n",
    "columns = ['Sales']\n",
    "res = pd.DataFrame(y_pred,columns=columns)"
   ]
  },
  {
   "cell_type": "code",
   "execution_count": null,
   "metadata": {},
   "outputs": [],
   "source": [
    "# Save the final predictions file\n",
    "\n",
    "res.to_csv('C:\\\\Data_Science\\\\Competitions\\\\MachineHack-2021\\\\my_submission1.csv', index=False)"
   ]
  },
  {
   "cell_type": "code",
   "execution_count": null,
   "metadata": {},
   "outputs": [],
   "source": []
  }
 ],
 "metadata": {
  "kernelspec": {
   "display_name": "Python 3",
   "language": "python",
   "name": "python3"
  },
  "language_info": {
   "codemirror_mode": {
    "name": "ipython",
    "version": 3
   },
   "file_extension": ".py",
   "mimetype": "text/x-python",
   "name": "python",
   "nbconvert_exporter": "python",
   "pygments_lexer": "ipython3",
   "version": "3.8.3"
  }
 },
 "nbformat": 4,
 "nbformat_minor": 4
}
